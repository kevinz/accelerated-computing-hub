{
  "cells": [
    {
      "cell_type": "markdown",
      "id": "38b89538-8c0d-4e59-8bda-d93d6c02c7fd",
      "metadata": {},
      "source": [
        "# 第三章：GPU上的Python"
      ],
      "## 编译型与解释型计算": "",
      "Python是科学、工程、数据分析和深度学习应用中最流行的编程语言之一。然而，作为一种解释型语言，它被认为对高性能计算来说太慢。": "",
      "编译成机器码的程序比解释型语言具有速度优势，因为在指令在处理器上执行之前不需要中间步骤。": "",
      "此外，由于同一时间只能有一个线程在解释器中执行，Python线程的行为与操作系统中的线程不同。全局解释器锁(GIL)实际上确保了线程不能并行运行，导致Python中的线程表现得像单核CPU。Python程序员通常必须依靠并发程序来利用并行性，而不是多线程。": "",
      "Python中的许多外部库都是用C或C++等其他语言实现的，以利用多线程。其中一个库是NumPy，它是Python中数值计算的基础构建块。": ""
    },
    {
      "cell_type": "markdown",
      "id": "83d8c709-a647-43f7-9ddd-2ef29179dad3",
      "metadata": {},
      "source": [
        "## Python科学库生态系统"
      ],
      "### Python科学计算生态系统中的NumPy": "",
      "NumPy(Numerical Python的简称)是在2005年通过将Numarray合并到Numeric中而创建的。从那时起，开源的NumPy库已经发展成为Python科学计算中的一个基础库。它已成为许多其他科学库的构建基础，如SciPy、Scikit-learn、Pandas等。NumPy之所以对科学界如此具有吸引力，是因为它为高效处理多维数组数据结构提供了便捷的Python接口；NumPy数组数据结构也称为`ndarray`，是n维数组的简称。": "",
      "除了主要用C实现并使用Python作为": "水语言",
      "API的昂贵类型检查和其他开销。虽然在Python列表末尾添加和删除元素非常高效，但改变NumPy数组的大小非常昂贵，因为它需要创建一个新数组并携带我们想要扩展或缩小的旧数组的内容。": "",
      "除了在数值计算方面比原生Python代码更高效外，由于向量化操作和广播功能，NumPy也可以更优雅和可读，这些特性我们将在本文中探讨。": "",
      "![UsesNumPy](images/chapter-03/uses-numpy.png)": "",
      "如今，NumPy帮助形成了科学Python计算生态系统的基础。(参见numpy.org) 这些基础库的GPU加速版本已经在开发中，但所有科学库都有机会利用这些优化。": "",
      "![ScipyEcosystem](images/chapter-03/scipy-eco.png)": ""
    },
    {
      "cell_type": "markdown",
      "id": "31915b81-ba55-4f45-9396-b28e35ff0411",
      "metadata": {},
      "source": [
        "### 在Python科学计算库中使用CuPy"
      ],
      "`cupy.ndarray`类是CuPy的核心，它是NumPy的`numpy.ndarray`类的替代类，这使其成为Python CUDA生态系统的绝佳入口点，特别是对于那些基于NumPy依赖构建其软件的科学库开发者。": "",
      "CuPy项目的目标是为Python用户提供GPU加速功能，而无需深入了解底层GPU技术。CuPy团队专注于提供：": "",
      "- 完整的NumPy和SciPy API覆盖，以成为完全的替代品，以及高级CUDA功能以最大化性能。": "- 成熟和高质量的库，作为所有需要加速的项目的基础包，从实验室环境到大规模集群。",
      "CuPy构建在CUDA之上，提供了更高层次的抽象，使得在不同GPU架构和CUDA版本之间移植代码更容易。这意味着CuPy代码可以在不同的CUDA兼容系统上运行，而无需进行重大修改。": "",
      "在底层，CuPy利用CUDA工具包库，包括cuBLAS、cuRAND、cuSOLVER、cuSPARSE、cuFFT、cuDNN和NCCL，以充分利用GPU架构。": ""
    },
    {
      "cell_type": "markdown",
      "id": "cec51e08-33ea-4dce-91ab-10e47a6e1e57",
      "metadata": {},
      "source": [
        "## 资源"
      ],
      "NumPy https://numpy.org/": "",
      "CuPy https://cupy.dev/": "",
      "NumPy和CuPy之间的差异 https://docs.cupy.dev/en/stable/user_guide/difference.html": ""
    },
    {
      "cell_type": "code",
      "execution_count": null,
      "id": "0d2fb030-1792-4b91-8c3f-83c5483395fc",
      "metadata": {},
      "outputs": [],
      "source": []
    }
  ],
  "metadata": {
    "kernelspec": {
      "display_name": "Python 3 (ipykernel)",
      "language": "python",
      "name": "python3"
    },
    "language_info": {
      "codemirror_mode": {
        "name": "ipython",
        "version": 3
      },
      "file_extension": ".py",
      "mimetype": "text/x-python",
      "name": "python",
      "nbconvert_exporter": "python",
      "pygments_lexer": "ipython3",
      "version": "3.11.7"
    }
  },
  "nbformat": 4,
  "nbformat_minor": 5
}