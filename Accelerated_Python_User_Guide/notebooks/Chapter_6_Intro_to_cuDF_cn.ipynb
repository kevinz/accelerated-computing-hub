{
    "cells": [
     {
      "cell_type": "markdown",
      "id": "190c98b6-4238-44d2-8578-012db6b89035",
      "metadata": {},
      "source": [
       "# 第6章：使用cuDF处理数据帧\n",
       "\n",
       "<img src=\"images/chapter-06/RAPIDS-logo-purple.png\" style=\"width:600px;\"/>\n",
       "\n",
       "cuDF是一个用于Python的GPU加速计算的DataFrame库。cuDF提供了类似pandas的API,这对数据工程师和数据科学家来说很熟悉,因此他们可以轻松地加速他们的工作流程,而无需深入了解CUDA编程的细节。\n",
       "\n",
       "cuDF是NVIDIA RAPIDS套件的一部分,这是一套GPU加速的数据科学和AI库,其API与最流行的开源数据工具相匹配。它们的作用是作为第3章:GPU上的Python中详述的流行科学计算库的近乎直接替代品。\n",
       "\n",
       "您可以使用cuDF利用GPU的计算能力来处理大型数据集。它提供了类似于pandas的熟悉接口,但可以更快地处理更大的数据集。\n"
      ]
     },
     {
      "cell_type": "markdown",
      "id": "9fdb7f74-2aab-416e-97ad-d35bb12623aa",
      "metadata": {},
      "source": [
       "## DataFrame基础\n",
       "\n",
       "cuDF主要作用于DataFrame数据结构。DataFrame是一个二维数据结构,可以在列中存储不同类型的数据(包括字符、整数、浮点值、分类数据等)。它类似于电子表格、SQL表或R中的`data.frame`。\n",
       "\n",
       "<img src=\"images/chapter-06/dataframe.png\" style=\"width:600px;\"/>\n",
       "\n"
      ]
     },
     {
      "cell_type": "markdown",
      "id": "c5bc81b7-e5d5-4ecb-9c71-3bb4833869ae",
      "metadata": {},
      "source": [
       "## cuDF基础\n",
       "\n",
       "cuDF的设计注重易用性。Python科学计算开发人员会发现cuDF在许多方面与Pandas相似,但重要的是要记住它们之间也存在一些关键差异。\n",
       "\n",
       "**性能：**\n",
       "- cuDF：\n",
       "利用GPU的并行处理能力,使其在处理大型数据集(GB到TB)和计算密集型操作(如连接、聚合和排序)时显著更快。\n",
       "- Pandas：\n",
       "在CPU上运行,限制了其处理大型数据集和复杂操作的性能。\n",
       "\n",
       "**硬件要求：**\n",
       "- cuDF：需要NVIDIA GPU和RAPIDS软件套件。\n",
       "- Pandas：可在任何带有CPU的系统上工作。\n",
       "\n",
       "**功能：**\n",
       "- cuDF：\n",
       "支持大多数Pandas功能,包括Series和DataFrames等数据结构以及常见操作。但是,某些功能可能略有不同,某些Pandas函数可能未实现或行为不同。\n",
       "- Pandas：\n",
       "提供更广泛的函数和功能,包括高级索引和时间序列操作。\n",
       "\n",
       "**兼容性：**\n",
       "- cuDF：\n",
       "可以与其他RAPIDS库集成,用于GPU加速的数据科学工作流程。\n",
       "- Pandas：\n",
       "与更广泛的Python生态系统无缝协作,包括NumPy、Scikit-learn和Matplotlib。\n",
       "\n",
       "**Pandas加速器模式：**\n",
       "cuDF提供cudf.pandas模式,使用户能够通过最少的代码更改来利用GPU加速。它作为代理,根据数据大小和操作自动在cuDF和Pandas之间切换。\n",
       "\n",
       "### 需要记住的关键差异：\n",
       "- 列名：cuDF不支持重复的列名,而Pandas支持。\n",
       "- 数据类型：虽然cuDF支持大多数Pandas数据类型,但在处理某些类型(如字符串和分类)时可能存在差异。\n",
       "- 索引：cuDF处理索引和多重索引操作的方式可能与Pandas不同。\n",
       "\n",
       "### 选择合适的库：\n",
       "\n",
       "对于小型数据集或CPU绑定的任务：由于其更广泛的功能和兼容性,Pandas是一个不错的选择。\n",
       "\n",
       "对于大型数据集和GPU加速计算：cuDF为数据密集型操作提供显著的性能改进。\n",
       "\n",
       "### cuDF vs. cudf.pandas\n",
       "您可能注意到cuDF库有一个`cudf.pandas`模块可用,这在导入和使用cuDF时可能会造成混淆。虽然cuDF和`cudf.pandas`都是RAPIDS的一部分,旨在通过利用GPU的能力来加速数据科学工作流程,但需要考虑一些关键差异。最重要的是,用户应该知道cudf主要在GPU上执行,而cudf.pandas有时可能会回退到在CPU上使用pandas。\n",
       "\n",
       "**cuDF：**\n",
       "- 核心库：它是一个GPU DataFrame库,提供针对GPU执行优化的Pandas API子集。\n",
       "- 直接访问：当您需要完全控制GPU特定功能和操作时直接使用它。\n",
       "- 性能：由于直接GPU优化,对于支持的操作可以提供更优的性能。\n",
       "- API兼容性：与Pandas不是100%兼容,因此某些Pandas函数可能不可用或行为不同。\n",
       "  \n",
       "**cudf.pandas：**\n",
       "- Pandas加速器：cuDF之上的一层,可为您现有的Pandas代码启用GPU加速。\n",
       "- 无缝过渡：用它来加速您的Pandas代码,无需进行重大修改。\n",
       "- 自动回退：如果cuDF不支持特定操作,它会自动回退到基于CPU的Pandas实现。\n",
       "- API兼容性：旨在与Pandas API 100%兼容,为大多数工作流程提供直接替代。\n",
       "\n",
       "**何时使用各个库：**\n",
       "- cuDF：\n",
       "如果您需要最大性能并且对使用略有不同的API感到舒适,或需要利用GPU特定功能。\n",
       "- cudf.pandas：\n",
       "如果您想通过最少的更改加速现有的Pandas代码并依赖完整的Pandas API。"
      ]
     },
     {
      "cell_type": "markdown",
      "id": "b48d43f7-92ff-4e44-a41f-db07f08b3e1d",
      "metadata": {},
      "source": [
       "<img src=\"images/chapter-06/inference-data-analytics-featured.jpg\" style=\"width:600px;\"/>\n",
       "\n",
       "## cuDF集成的最新进展：Polars GPU引擎\n",
       "Polars是数据科学家和工程师中增长最快的Python库之一,它从头开始设计以解决这些挑战。它使用高级查询优化来减少不必要的数据移动和处理,允许数据科学家在单台机器上顺利处理数亿行规模的工作负载。Polars在单线程解决方案太慢而分布式系统增加不必要复杂性的情况下架起了桥梁,提供了一个吸引人的'中等规模'数据处理解决方案。\n",
       "\n",
       "cuDF为Python用户提供了Polars Lazy API的内存中、GPU加速执行引擎。该引擎支持大多数核心表达式和数据类型,以及越来越多的高级数据帧操作和数据文件格式。\n",
       "\n",
       "使用GPU引擎时,Polars将把表达式转换为优化的查询计划,并确定该计划是否在GPU上受支持。如果不支持,执行将透明地回退到标准Polars引擎并在CPU上运行。"
      ]
     },
     {
      "cell_type": "markdown",
      "id": "2316090a-c4df-4efd-880c-f89c85742e99",
      "metadata": {},
      "source": [
       "## 有用的参考链接\n",
       "\n",
       "cuDF文档：https://docs.rapids.ai/api/cudf/stable/ \n",
       "\n",
       "cuDF用户指南：https://docs.rapids.ai/api/cudf/stable/user_guide/ \n",
       "\n",
       "Pandas文档：https://pandas.pydata.org/docs/ \n",
       "\n",
       "Pandas API参考：https://pandas.pydata.org/docs/reference/index.html \n",
       "\n",
       "cuDF和Pandas之间的差异：https://docs.rapids.ai/api/cudf/stable/user_guide/pandas-comparison/ \n",
       "\n",
       "使用cuDF进行数据探索：https://developer.nvidia.com/blog/accelerated-data-analytics-speed-up-data-exploration-with-rapids-cudf/ \n",
       "\n",
       "由RAPIDS cuDF支持的Polars GPU引擎现已开放测试版：https://developer.nvidia.com/blog/polars-gpu-engine-powered-by-rapids-cudf-now-available-in-open-beta/\n",
       "\n",
       "NVIDIA CUDA-X现在加速Polars数据处理库：https://developer.nvidia.com/blog/nvidia-cuda-x-now-accelerates-the-polars-data-processing-library/\n",
       "\n",
       "Polars文档：https://docs.pola.rs/ \n"
      ]
     },
     {
      "cell_type": "markdown",
      "id": "8f058210-907a-4218-9e6c-8da8034750b1",
      "metadata": {},
      "source": [
       "## 编码指南\n",
       "\n",
       "### 安装\n",
       "请使用cuDF RAPIDS安装指南获取适合您的硬件和Python环境的安装说明：https://docs.rapids.ai/install/ \n",
       "\n",
       "为了我们的示例,我们在下面使用pip："
      ]
     },
     {
      "cell_type": "code",
      "execution_count": null,
      "id": "2781ba74-e341-4e2e-9317-a64967fcabc5",
      "metadata": {},
      "outputs": [],
      "source": [
       "!pip install \\\n",
       "    --extra-index-url=https://pypi.nvidia.com \\\n",
       "    cudf-cu12==24.8.*"
      ]
     },
     {
      "cell_type": "markdown",
      "id": "d30de7fc-3733-45f9-a9e3-6f2af2fc60fa",
      "metadata": {},
      "source": [
       "# 示例：\n",
       "\n",
       "## 创建cuDF数据帧"
      ]
     },
     {
      "cell_type": "code",
      "execution_count": null,
      "id": "3cf43262-e9cd-42a3-b907-cded8cdf2880",
      "metadata": {},
      "outputs": [],
      "source": [
       "import cudf\n",
       "import numpy as np\n",
       "\n",
       "numRows = 1000000\n",
       "# 使用cuDF创建DataFrame\n",
       "data = {\n",
       "    'A': np.random.rand(numRows),\n",
       "    'B': np.random.rand(numRows),\n",
       "    'C': np.random.rand(numRows)\n",
       "}\n",
       "gdf = cudf.DataFrame(data)\n",
       "\n",
       "# 显示前几行\n",
       "print(gdf.head())\n"
      ]
     },
     {
      "cell_type": "markdown",
      "id": "48a8e6b1-084e-4bc8-839a-d15376053e6f",
      "metadata": {},
      "source": [
       "## 探索DataFrame\n",
       "\n",
       "**形状：**"
      ]
     },
     {
      "cell_type": "code",
      "execution_count": null,
      "id": "e242afbc-3645-464a-bd65-d2c7f72a24a1",
      "metadata": {},
      "outputs": [],
      "source": [
       "gdf.shape"
      ]
     },
     {
      "cell_type": "markdown",
      "id": "f64c458e-5989-4d8d-be44-a81d63c5fcbc",
      "metadata": {},
      "source": [
       "如您所见,第一个值对应于我们拥有的行数,而第二个值表示我们创建的列数。\n",
       "\n",
       "使用.info方法获取数据帧的更全面视图！"
      ]
     },
     {
      "cell_type": "code",
      "execution_count": null,
      "id": "cc82a31c-08c1-47de-b84c-8093c3dcca46",
      "metadata": {
       "scrolled": true
      },
      "outputs": [],
      "source": [
       "gdf.info"
      ]
     },
     {
      "cell_type": "markdown",
      "id": "24c438c7-65b8-44d5-aef9-0a648e78a905",
      "metadata": {},
      "source": [
       "## 过滤数据\n",
       "\n",
       "过滤列'A'大于0.5的所有行："
      ]
     },
     {
      "cell_type": "code",
      "execution_count": null,
      "id": "d29f1439-5326-4de0-b9e2-339edc5c30b2",
      "metadata": {},
      "outputs": [],
      "source": [
       "filtered_gdf = gdf[gdf['A'] > 0.5]\n",
       "filtered_gdf.shape\n",
       "print(f\"从新过滤的数据帧的形状可以看出,行数从{numRows}减少到{filtered_gdf.shape[0]}。这意味着我们过滤掉了{numRows - filtered_gdf.shape[0]}行,'A'值小于0.5的行！\")"
      ]
     },
     {
      "cell_type": "markdown",
      "id": "bb154ae9-1482-4b0d-8def-a263074b5a96",
      "metadata": {},
      "source": [
       "## 分组和聚合\n",
       "\n",
       "创建带有类别的新数据帧："
      ]
     },
     {
      "cell_type": "code",
      "execution_count": null,
      "id": "95135154-8214-4a4e-9bff-43c974d00117",
      "metadata": {},
      "outputs": [],
      "source": [
       "data = {\n",
       "    'Category': ['A', 'B', 'A', 'B', 'A'],\n",
       "    'Value': [10, 20, 30, 40, 50]\n",
       "}\n",
       "gdf = cudf.DataFrame(data)\n",
       "gdf"
      ]
     },
     {
      "cell_type": "markdown",
      "id": "279fa4a7-378f-46c8-98f7-95699d713ab8",
      "metadata": {},
      "source": [
       "按类别分组并计算平均值："
      ]
     },
     {
      "cell_type": "code",
      "execution_count": null,
      "id": "bf1bae60-1f4d-4d16-bffd-41844159c5e6",
      "metadata": {},
      "outputs": [],
      "source": [
       "grouped = gdf.groupby('Category')['Value'].mean().reset_index()\n",
       "print(grouped)"
      ]
     },
     {
      "cell_type": "markdown",
      "id": "1e517ac0-dda2-46e6-acfa-7ad4813473c3",
      "metadata": {},
      "source": [
       "## 使用cudf vs. cudf.pandas"
      ]
     },
     {
      "cell_type": "code",
      "execution_count": null,
      "id": "13ead37e-9aad-4964-b99b-6c82a25558ef",
      "metadata": {},
      "outputs": [],
      "source": [
       "import pandas as pd\n",
       "import cudf.pandas as xpd\n",
       "\n",
       "df = pd.DataFrame({'A': [1, 2, 3], 'B': [4, 5, 6]})\n",
       "\n",
       "# 直接使用cuDF - 将数据帧移动到GPU\n",
       "gdf = cudf.DataFrame.from_pandas(df)\n",
       "result = gdf.sum()\n",
       "\n",
       "# 使用cudf.pandas\n",
       "xpd_df = xpd.DataFrame(df)\n",
       "result = xpd_df.sum() "
      ]
     }
    ],
    "metadata": {
     "kernelspec": {
      "display_name": "Python 3 (ipykernel)",
      "language": "python",
      "name": "python3"
     },
     "language_info": {
      "codemirror_mode": {
       "name": "ipython",
       "version": 3
      },
      "file_extension": ".py",
      "mimetype": "text/x-python",
      "name": "python",
      "nbconvert_exporter": "python",
      "pygments_lexer": "ipython3",
      "version": "3.11.7"
     }
    },
    "nbformat": 4,
    "nbformat_minor": 5
   }