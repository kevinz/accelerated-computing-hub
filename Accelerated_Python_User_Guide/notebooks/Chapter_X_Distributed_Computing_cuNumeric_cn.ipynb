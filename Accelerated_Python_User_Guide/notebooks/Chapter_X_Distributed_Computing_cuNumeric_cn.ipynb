{
    "cells": [
     {
      "cell_type": "markdown",
      "id": "d2a6c634-44c7-4be1-88c2-1b70cd8e9253",
      "metadata": {},
      "source": [
       "# **第X章：使用 cuNumeric 进行分布式计算**\n",
       "\n",
       "## **引言：**\n",
       "\n",
       "cuNumeric 是一个与 NumPy 兼容的库，专为大规模计算而设计。它旨在提供一个分布式且加速的 NumPy API 替代方案。该库是 Legate 项目的一部分，该项目利用数据中心编程模型 Legion 来提供可扩展/易用的 Python 替代方案，通过利用 GPU 加速和分布式计算。cuNumeric 的目标是替代广泛使用的 Python 库 NumPy。Legate 和类似 cuNumeric 的库的目标是使高性能计算大众化，让程序员能够利用大型 CPU 和 GPU 集群的力量，同时仍然能够在台式机或笔记本电脑上无缝运行相同的代码！\n",
       "\n",
       "**cuNumeric 与 NumPy 的比较：**\n",
       "\n",
       "cuNumeric 设计时考虑了 NumPy 的所有功能，使 NumPy 用户能够轻松使用 cuNumeric。但是，它们之间存在几个关键差异：\n",
       "\n",
       "* 可扩展性：cuNumeric 能够在大型 CPU/GPU 集群上运行，随着 AI 的不断发展，它更适合处理更大规模的数据处理。\n",
       "* GPU 加速：由于 cuNumeric 利用 GPU 加速，与仅限于 CPU 操作的 NumPy 相比，它能提供显著的性能提升。cuNumeric 使处理大量数据集变得更加容易。\n",
       "* 分布式计算：cuNumeric 支持分布式计算，允许将计算分散到各个节点上，使用户能够更有效地处理不断增长的问题规模，与单独使用 NumPy 相比，显著减少了总计算时间。"
      ]
     },
     {
      "cell_type": "markdown",
      "id": "4ec35fe9-6424-4445-a870-75465ea0ae56", 
      "metadata": {},
      "source": [
       "## **硬件要求：**\n",
       "\n",
       "建议配置（单节点设置）：\n",
       "\n",
       "* GPU：NVIDIA V100 或更新型号\n",
       "* CPU：AMD EPYC、Intel Xeon（支持多核，至少16核）\n",
       "* 系统内存：64 GB 或更多（取决于数据集大小）\n",
       "\n",
       "其他选项：可在 Perlmutter 等 HPC 集群上运行！（[Perlmutter](https://docs.nersc.gov/systems/perlmutter/architecture/) 是位于国家能源研究科学计算中心（NERSC）的强大超级计算机）"
      ]
     },
     {
      "cell_type": "markdown",
      "id": "b33d7731-6454-4481-baed-0e2077b4e57b",
      "metadata": {},
      "source": [
       "## **快速安装指南：**\n",
       "\n",
       "在 Linux 服务器上安装 CUDA，请按以下步骤操作：\n",
       "\n",
       "1. 访问 [CUDA Toolkit 下载页面](https://developer.nvidia.com/cuda-downloads)\n",
       "2. 选择您的操作系统、架构、发行版和版本\n",
       "3. 选择安装程序类型（如 runfile 或 deb）\n",
       "4. 按照提供的安装说明进行操作\n",
       "\n",
       "在 Linux 机器上安装 Conda，请在终端中输入以下命令："
      ]
     },
     {
      "cell_type": "code",
      "execution_count": null,
      "id": "de2ce419-b275-4f4c-8d65-0e13b85e2908",
      "metadata": {},
      "outputs": [],
      "source": [
       "mkdir -p ~/miniforge3 \n",
       "wget https://github.com/conda-forge/miniforge/releases/latest/download/Miniforge3-Linux-x86_64.sh -O ~/miniforge3/miniforge.sh\n",
       "bash ~/miniforge3/miniforge.sh -b -u -p ~/miniforge3 \n",
       "rm -rf ~/miniforge3/miniforge.sh \n",
       "~/miniforge3/bin/conda init bash\n",
       "~/miniforge3/bin/conda init zsh\n",
       "source ~/.bashrc"
      ]
     },
     {
      "cell_type": "markdown",
      "id": "dae5308e-87d5-4748-b359-ceb5fae986be",
      "metadata": {},
      "source": [
       "不同操作系统的安装说明：[Conda](https://docs.anaconda.com/miniconda/)\n",
       "\n",
       "接下来让我们通过在终端中输入以下命令来安装 Legate 和 cuNumeric："
      ]
     },
     {
      "cell_type": "code",
      "execution_count": null,
      "id": "de9db4a1-cad6-4667-aa3b-56198e530eed",
      "metadata": {},
      "outputs": [],
      "source": [
       "conda create -n legate -c conda-forge -c legate cunumeric"
      ]
     },
     {
      "cell_type": "markdown",
      "id": "58aaf413-b38f-4929-9342-8d77ebb5e59b",
      "metadata": {},
      "source": [
       "**普通 Linux 系统：**"
      ]
     },
     {
      "cell_type": "code",
      "execution_count": null,
      "id": "e4474687-92db-4ae5-92ee-ed93dde2b455",
      "metadata": {},
      "outputs": [],
      "source": [
       "conda activate legate"
      ]
     },
     {
      "cell_type": "markdown",
      "id": "b9ea4906-da04-4f18-8a87-cef458308418",
      "metadata": {},
      "source": [
       "**Perlmutter（多节点使用）：**\n",
       "\n",
       "创建交互式会话：\n",
       "示例："
      ]
     },
     {
      "cell_type": "code",
      "execution_count": null,
      "id": "c1ea23c4-4168-4a0c-932c-f60cf0db7872",
      "metadata": {},
      "outputs": [],
      "source": [
       "salloc --nodes 1 --qos interactive --time 01:30:00 --constraint gpu_ss11 --gpus 2 --account=<group-id> --mem=200G"
      ]
     },
     {
      "cell_type": "markdown",
      "id": "e1899712-3464-473b-9176-b35fd29c743d",
      "metadata": {},
      "source": [
       "<上述示例创建了一个交互式会话，包含1个节点，2个 A100 GPU（gpu_ss11），200GB 内存，运行时间为1小时30分钟>"
      ]
     },
     {
      "cell_type": "code",
      "execution_count": null,
      "id": "4406d05a-1854-4867-a46b-56912a0c2c96",
      "metadata": {},
      "outputs": [],
      "source": [
       "conda create -n legate -c conda-forge -c legate/label/gex-experimental cunumeric realm-gex-wrapper legate-mpi-wrapper"
      ]
     },
     {
      "cell_type": "markdown",
      "id": "b5ce72fd-b211-4eab-8687-ee3393d6b58e",
      "metadata": {},
      "source": [
       "如果需要更新任何依赖项，请继续更新。"
      ]
     },
     {
      "cell_type": "code",
      "execution_count": null,
      "id": "80fd5192-5184-4db5-925f-1bc0cd309459",
      "metadata": {},
      "outputs": [],
      "source": [
       "conda activate legate"
      ]
     },
     {
      "cell_type": "markdown",
      "id": "bf4c814d-916d-418f-a83e-80c266593b03",
      "metadata": {},
      "source": [
       "要使用多节点，请激活以下包装器："
      ]
     },
     {
      "cell_type": "code",
      "execution_count": null,
      "id": "0579d5ca-4a81-481f-a24e-6a54edb91ce6",
      "metadata": {},
      "outputs": [],
      "source": [
       "/global/homes/<intial>/<username>/miniconda3/envs/legate/gex-wrapper/build-gex-wrapper.sh\n",
       "\n",
       "/global/homes/<intial>/<username>/miniconda3/envs/legate/mpi-wrapper/build-gex-wrapper.sh"
      ]
     },
     {
      "cell_type": "markdown",
      "id": "ad8d275d-02ee-4d17-8a5a-630b3a4cb6f7",
      "metadata": {},
      "source": [
       "如果需要重新激活环境，请重新运行 conda activate legate。"
      ]
     },
     {
      "cell_type": "markdown",
      "id": "018461be-a81a-480d-86b1-7811e2ab27d2",
      "metadata": {},
      "source": [
       "### **示例运行：**\n",
       "\n",
       "创建一个 main.py 文件，并输入以下代码："
      ]
     },
     {
      "cell_type": "code",
      "execution_count": null,
      "id": "84f9852b-6e56-444d-87f6-8a9b14547494",
      "metadata": {},
      "outputs": [],
      "source": [
       "import cunumeric as np\n",
       "from legate.timing import time\n",
       "# 定义向量大小\n",
       "start_time = time()\n",
       "size = 100000000 \n",
       "\n",
       "# 生成两个指定大小的随机向量\n",
       "vector1 = np.random.rand(size)\n",
       "vector2 = np.random.rand(size)\n",
       "\n",
       "# 使用 cuNumeric 计算点积\n",
       "dot_product = np.dot(vector1, vector2)\n",
       "\n",
       "# 打印结果\n",
       "end_time = time()\n",
       "elapsed_time = (end_time - start_time)/1000\n",
       "\n",
       "print(\"点积结果:\", dot_product)\n",
       "print(f\"点积计算耗时 {elapsed_time:.4f} 毫秒\")"
      ]
     },
     {
      "cell_type": "markdown",
      "id": "ca1739ca-cab7-4412-a345-24f1833c8f21",
      "metadata": {},
      "source": [
       "要运行上述代码，请遵循以下结构：\n",
       "\n",
       "legate --<处理器类型> --<CLI选项> ./main.py <main.py选项>\n",
       "#例如，让我们使用："
      ]
     },
     {
      "cell_type": "code",
      "execution_count": null,
      "id": "de185251-38bb-47d9-a408-d7fb5412d649",
      "metadata": {},
      "outputs": [],
      "source": [
       "legate --gpus 4 --sysmem 2000 --fbmem 12000 --eager-alloc-percentage 10 ./main.py"
      ]
     },
     {
      "cell_type": "markdown",
      "id": "084b502d-2785-451f-80d9-14a12d747229",
      "metadata": {},
      "source": [
       "输出："
      ]
     },
     {
      "cell_type": "markdown",
      "id": "118d5c68-59b5-43e5-8950-bf96d184b1de",
      "metadata": {},
      "source": [
       "如果您能在本地运行，您可能可以使用 matplotlib 绘制图像。您只需要在顶部取消注释库访问行，并取消注释绘制图像的部分。如果正确完成，您应该得到一个如下所示的图像：\n",
       "\n",
       "![CuImageEx2.png](attachment:328fe50f-9430-41ba-9f4a-78dae0b8677e.png)"
      ]
     },
     {
      "cell_type": "markdown",
      "id": "eda98478-2433-4d6d-bf49-5e6306ce41fe",
      "metadata": {},
      "source": [
       "# **资源分配/使用 Legate：**\n",
       "\n",
       "如前所述，cuNumeric 是 Legate 项目的一部分。\n",
       "Legate 将用于执行您的程序。它允许您指定成功执行应用程序所需的资源。\n",
       "有3种不同类型的处理器（任务变体）：CPU、GPU 和 OMP。（OMP 变体使用 OpenMP 线程来并行化程序）\n",
       "除了指定变体外，您还必须为每个处理器上的程序指定所需的内存量：\n",
       "\n",
       "可用参数："
      ]
     },
     {
      "cell_type": "code",
      "execution_count": null,
      "id": "d5f264d9-fd3e-4cbc-81d7-cb89342eddb8",
      "metadata": {},
      "outputs": [],
      "source": [
       "- - nodes: 程序要使用的节点数\n",
       "\n",
       "- - cpus: 程序要使用的 CPU 数量\n",
       "- - gpus: 程序要使用的 GPU 数量\n",
       "\n",
       "- - omps: 创建的 OMP 进程数\n",
       "- - ompthreads: OMP 进程中的线程数\n",
       "\n",
       "- - sysmem: 系统内存（MB）\n",
       "- - fbmem: 每个 GPU 的帧缓冲内存（MB）\n",
       "- - eager-alloc-percentage: 为急切分配保留的百分比"
      ]
     },
     {
      "cell_type": "markdown",
      "id": "5dc10fe7-d0b7-43c4-8568-9606d56e1d89",
      "metadata": {},
      "source": [
       "运行程序的模板："
      ]
     },
     {
      "cell_type": "code",
      "execution_count": null,
      "id": "560f8af3-cd68-4141-bdcc-07ca6f17b120",
      "metadata": {},
      "outputs": [],
      "source": [
       "#CPU 示例\n",
       "\n",
       "legate --cpus 8 --sysmem 40000 --eager-alloc-percentage 10 ./main.py <main.py选项>\n",
       "\n",
       "#GPU 示例\n",
       "\n",
       "legate --gpus 2 --fbmem 40000 --eager-alloc-percentage 10 ./main.py <main.py选项>\n",
       "\n",
       "#OMP 示例\n",
       "\n",
       "legate --omps 1 --ompthreads 4 --sysmem 40000 --eager-alloc-percentage 10 ./main.py <main.py选项>"
      ]
     },
     {
      "cell_type": "markdown",
      "id": "83cc6307-0c5f-4d77-81bf-2c500175e473",
      "metadata": {},
      "source": [
       "有关命令行界面选项的更多信息，请参阅 Legate CLI 选项"
      ]
     },
     {
      "cell_type": "markdown",
      "id": "d1129a65-cb66-4cce-8caa-0c398d570ab6",
      "metadata": {},
      "source": [
       "# **最佳实践：**\n",
       "\n",
       "从 NumPy 开始：如果您熟悉 NumPy，可以像平常一样用 NumPy 编写代码，然后将 'import numpy as np 替换为 import cunumeric as np'。"
      ]
     },
     {
      "cell_type": "code",
      "execution_count": null,
      "id": "65f7ab43-1d55-4347-b4a7-9d0f6d3a96b8",
      "metadata": {},
      "outputs": [],
      "source": [
       "import numpy as np"
      ]
     },
     {
      "cell_type": "markdown",
      "id": "fb5c3d93-4ae3-4910-8ebd-7c082e8df390",
      "metadata": {},
      "source": [
       "变为"
      ]
     },
     {
      "cell_type": "code",
      "execution_count": null,
      "id": "ef3f0753-3574-4b3c-abbe-c555a855936f",
      "metadata": {},
      "outputs": [],
      "source": [
       "import cunumeric as np"
      ]
     },
     {
      "cell_type": "markdown",
      "id": "bb43ba09-af04-45b3-8a53-0e8bb7349631",
      "metadata": {},
      "source": [
       "**三大要点：**\n",
       "\n",
       "1. *使用 cuNumeric 数组而不是原生列表*\n",
       "   使用数组时，不要使用原生 Python 数据结构如列表或元组。从这些结构创建 cuNumeric 数组，并使用基于数组的函数对其进行操作。"
      ]
     },
     {
      "cell_type": "code",
      "execution_count": null,
      "id": "5b2034b7-6e4d-4cfe-9452-56330e3c1b7f",
      "metadata": {},
      "outputs": [],
      "source": [
       "# 不推荐：使用列表和其他原生 Python 数据结构进行大规模计算\n",
       "x = [1, 2, 3]\n",
       "y = []\n",
       "for val in x:\n",
       "    y.append(val + 2)\n",
       "\n",
       "# 推荐：创建 cuNumeric 数组并使用基于数组的操作\n",
       "y = np.array(x)\n",
       "y = x + 2"
      ]
     },
     {
      "cell_type": "markdown",
      "id": "998c3096-acb9-4790-9fd5-1f47817c22d3",
      "metadata": {},
      "source": [
       "2. *避免使用索引的循环；利用基于数组的操作*\n",
       "   如果需要设置/更新数组的某个组件，请用基于数组的实现替换显式循环"
      ]
     },
     {
      "cell_type": "code",
      "execution_count": null,
      "id": "d7636f59-6484-401c-bbd3-40814da0f3a9",
      "metadata": {},
      "outputs": [],
      "source": [
       "# 示例 1\n",
       "# x 和 y 是三维数组\n",
       "\n",
       "# 不推荐：朴素的逐元素实现\n",
       "for i in range(ny):\n",
       "    for j in range(nx):\n",
       "        x[0, j, i] = y[3, j, i]\n",
       "\n",
       "# 推荐：基于数组的实现\n",
       "x[0] = y[3]\n",
       "\n",
       "# 示例 2\n",
       "\n",
       "# x 和 y 是二维数组，我们需要根据 y 是否满足条件来更新 x\n",
       "\n",
       "# 不推荐：朴素的逐元素实现\n",
       "for i in range(ny):\n",
       "    for j in range(nx):\n",
       "        if (y[j, i] < tol):\n",
       "            x[j, i] = const\n",
       "        else\n",
       "            x[j, i] = 1.0 - const\n",
       "\n",
       "# 推荐：基于数组的实现\n",
       "cond = y < tol\n",
       "x[cond] = const\n",
       "x[~cond] = 1.0 - const"
      ]
     },
     {
      "cell_type": "markdown",
      "id": "ff0de518-14ca-4ac5-b1a4-77a9ab8ab170",
      "metadata": {},
      "source": [
       "3. *使用布尔掩码，避免高级索引*\n",
       "   使用布尔掩码索引数组将比使用带索引的数组更快"
      ]
     },
     {
      "cell_type": "code",
      "execution_count": null,
      "id": "9d8bbc06-bfbd-45ec-aea2-5c4cd9d4bad4",
      "metadata": {},
      "outputs": [],
      "source": [
       "import cunumeric as np\n",
       "\n",
       "# 不推荐：不要使用 nonzero 获取索引\n",
       "indices = np.nonzero(h < 0)\n",
       "x[indices] = y[indices]\n",
       "\n",
       "# 推荐：使用布尔掩码更新数组\n",
       "cond = h < 0\n",
       "x[cond] = y[cond]"
      ]
     },
     {
      "cell_type": "markdown",
      "id": "69cf4429-c4e2-44f2-9dc4-f00c365f4e8d",
      "metadata": {},
      "source": [
       "更多最佳实践，请访问 cuNumeric [最佳实践](https://docs.nvidia.com/cunumeric/24.06/user/practices.html)！"
      ]
     }
    ],
    "metadata": {
     "kernelspec": {
      "display_name": "Python 3 (ipykernel)",
      "language": "python",
      "name": "python3"
     },
     "language_info": {
      "codemirror_mode": {
       "name": "ipython",
       "version": 3
      },
      "file_extension": ".py",
      "mimetype": "text/x-python",
      "name": "python",
      "nbconvert_exporter": "python",
      "pygments_lexer": "ipython3",
      "version": "3.11.7"
     }
    },
    "nbformat": 4,
    "nbformat_minor": 5
   }