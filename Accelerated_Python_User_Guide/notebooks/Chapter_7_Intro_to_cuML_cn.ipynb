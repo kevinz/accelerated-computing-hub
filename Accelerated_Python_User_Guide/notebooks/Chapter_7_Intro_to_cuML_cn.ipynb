{
    "cells": [
     {
      "cell_type": "markdown", 
      "id": "72a102bd-381c-40a7-9c01-c06e37de889f",
      "metadata": {},
      "source": [
       "# 第7章：使用cuML进行机器学习\n",
       "\n",
       "<img src=\"images/chapter-07/rapids_logo.png\" style=\"width:600px;\"/>\n",
       "\n",
       "作为NVIDIA RAPIDS套件的一部分,cuML在加速端到端机器学习流程方面非常有用,从数据预处理到模型训练和评估,都能利用NVIDIA GPU的并行处理能力。\n",
       "\n",
       "与其他RAPIDS库一样,cuML致力于模仿其在Python科学计算生态系统中的对应产品scikit-learn的行为。通过匹配scikit-learn API,已经熟悉scikit-learn语法和功能的用户可以轻松过渡到cuML以获得GPU加速。\n"
      ]
     },
     {
      "cell_type": "markdown",
      "id": "5c5c5f13-81f2-4bdc-a5d7-f61ee1c8f9ac", 
      "metadata": {},
      "source": [
       "## cuML基础\n",
       "\n",
       "cuML是一个在GPU上实现了一套机器学习算法的库,它提供了一个易于使用的类似scikit-learn的接口,从而实现显著的性能提升。\n",
       "\n",
       "### 使用cuML的优势\n",
       "\n",
       "cuML提供了几个优势,使其成为希望加速机器学习工作流程的数据科学家的理想选择:\n",
       "- **速度:** 通过利用GPU加速,cuML可以显著减少训练模型和进行预测所需的时间。\n",
       "- **可扩展性:** 它设计为可以从单个GPU扩展到多GPU设置,能够更高效地处理大型数据集。\n",
       "- **易用性:** cuML的API与scikit-learn相似,使已经熟悉这个流行的Python机器学习库的用户容易上手。\n",
       "\n",
       "\n",
       "### 何时使用cuML\n",
       "如果您遇到以下任何情况,cuML都能提供非凡的优势:\n",
       "- 大型数据集导致计算速度变慢\n",
       "- 对性能要求严格的机器学习应用\n",
       "- 希望利用GPU处理的原始能力\n",
       "\n",
       "\n",
       "### 使用场景\n",
       "- 大数据分析：适用于需要处理大量数据的应用,如金融分析或实时分析。\n",
       "- 深度学习预处理：在机器学习工作流程中用于预处理步骤,显著减少训练深度学习模型时的瓶颈。\n",
       "- 时间序列预测：加速涉及海量数据集的时间序列模型训练。\n",
       "  \n",
       "\n",
       "### cuML的局限性\n",
       "\n",
       "- **GPU要求：** cuML设计为在NVIDIA GPU上运行,这意味着您需要访问兼容的硬件。对于没有NVIDIA GPU的用户来说,cuML不是一个选项,与基于CPU的库如scikit-learn相比,其可访问性受限。\n",
       "\n",
       "- **CUDA依赖：** 该库依赖于CUDA,NVIDIA的并行计算平台和编程模型。这意味着用户必须安装兼容的CUDA版本,这可能会带来兼容性问题和额外的设置复杂性。\n",
       "\n",
       "- **GPU内存限制：** cuML算法的性能和可扩展性直接与GPU的内存容量相关。对于非常大的数据集,这可能成为瓶颈,因为整个数据集和中间计算需要适应GPU内存,而GPU内存通常比系统RAM更有限。\n",
       "\n",
       "- **算法选择有限：** 虽然cuML提供了一系列常用的机器学习算法,但其选择不如scikit-learn全面。某些特定或非常新的算法可能不可用,这对某些项目来说可能是一个限制。\n",
       "\n",
       "- **扩展挑战：** 虽然cuML支持某些算法的多GPU配置,但扩展到多个GPU可能会在设置和代码方面带来额外的复杂性。管理跨GPU的数据分布和聚合可能具有挑战性,特别是对于那些本质上不是为分布式计算设计的算法。\n",
       "\n",
       "- **与其他库的集成：** 数据科学家在其工作流程中经常使用各种工具和库。cuML与其他Python库的集成通常很好,特别是在RAPIDS生态系统内,但在与不支持GPU的库集成时可能会遇到挑战,需要在CPU和GPU内存之间进行额外的数据传输。\n",
       "\n",
       "- **生态系统兼容性：** 与其他机器学习和数据处理框架深度集成的项目在整合cuML时可能会遇到挑战,特别是如果这些框架不原生支持GPU加速或对基于CPU的算法有特定依赖。\n",
       "\n",
       "- **对GPU计算的熟悉度：** 要充分利用cuML并解决出现的任何问题,用户可能需要对GPU计算原理有基本的了解,这对于只熟悉基于CPU计算的用户来说可能需要一定的学习曲线。\n",
       "\n",
       "- **文档和社区支持：** 虽然RAPIDS生态系统正在增长,但cuML的文档和社区支持可能不如更成熟的库(如scikit-learn)那么广泛或成熟。这可能使解决特定问题或理解高级功能变得更具挑战性。"
      ]
     },
     {
      "cell_type": "markdown",
      "id": "82bc7c4a",
      "metadata": {},
      "source": [
       "## cuML的高级功能\n",
       "\n",
       "### 多GPU支持\n",
       "\n",
       "cuML支持多GPU设置,允许您进一步扩展计算。这对于极大的数据集或受益于分布式处理的复杂模型特别有用。\n",
       "\n",
       "### 与其他RAPIDS库的集成\n",
       "\n",
       "cuML与其他RAPIDS库(如cuDF(用于数据操作)、cuGraph(用于图分析)和cuSpatial(用于空间数据))集成良好。这种协同作用允许您在GPU上构建全面的数据科学工作流程。\n"
      ]
     },
     {
      "cell_type": "markdown",
      "id": "10ad62b3-1b6b-4cc4-a0a6-fdf22a73660e",
      "metadata": {},
      "source": [
       "## 有用的参考链接\n",
       "\n",
       "cuML文档：https://docs.rapids.ai/api/cuml/stable/\n",
       "\n",
       "cuML API参考：https://docs.rapids.ai/api/cuml/stable/api/ \n",
       "\n",
       "Scikit-learn文档：https://scikit-learn.org/stable/  "
      ]
     },
     {
      "cell_type": "markdown",
      "id": "57a2163b-aa0f-4b9c-aa34-b846d87e4b58",
      "metadata": {},
      "source": [
       "<img src=\"images/chapter-07/nvidia-cuda-ml.jpg\" style=\"width:800px;\"/>\n",
       "\n",
       "# 编码指南\n",
       "\n",
       "### 安装\n",
       "请使用cuDF RAPIDS安装指南获取适合您的硬件和Python环境的安装说明：https://docs.rapids.ai/install/ "
      ]
     },
     {
      "cell_type": "markdown",
      "id": "6d5dd711-7df3-43a4-b09a-c62f5e428750",
      "metadata": {},
      "source": [
       "# 示例\n",
       "\n",
       "## 创建一个简单的DataFrame"
      ]
     },
     {
      "cell_type": "code",
      "execution_count": null,
      "id": "c91a9f35-768f-4557-a811-cbad4f881f76",
      "metadata": {},
      "outputs": [],
      "source": [
       "import cudf\n",
       "import numpy as np\n",
       "\n",
       "# 创建一个随机DataFrame\n",
       "data = cudf.DataFrame({\n",
       "    'x1': np.random.rand(1000),\n",
       "    'x2': np.random.rand(1000),\n",
       "    'y': np.random.randint(0, 2, size=1000)\n",
       "})\n",
       "\n",
       "data.head()"
      ]
     },
     {
      "cell_type": "markdown",
      "id": "b7d686ad-e50c-4cc3-b0cd-d15645880ec3",
      "metadata": {},
      "source": [
       "### 💡 挑战：修改上面DataFrame中的行数并观察输出如何变化。"
      ]
     },
     {
      "cell_type": "markdown",
      "id": "738fa0e1-1799-4042-8912-4b641c56c2ff",
      "metadata": {},
      "source": [
       "## 训练机器学习模型 - 简单逻辑回归"
      ]
     },
     {
      "cell_type": "code",
      "execution_count": null,
      "id": "7b010ca2-0d92-4022-9d8c-df2a8ee71113",
      "metadata": {},
      "outputs": [],
      "source": [
       "from cuml.linear_model import LogisticRegression\n",
       "from cuml.model_selection import train_test_split\n",
       "\n",
       "#将数据分为训练集和测试集\n",
       "X = data[['x1', 'x2']]\n",
       "y = data['y']\n",
       "X_train, X_test, y_train, y_test = train_test_split(X, y, train_size = 0.8)\n",
       "model = LogisticRegression()\n",
       "model.fit(X_train, y_train)\n",
       "\n",
       "predictions = model.predict(X_test)"
      ]
     },
     {
      "cell_type": "markdown",
      "id": "fae215da-fba6-4bf9-bd81-cc963c97544d",
      "metadata": {},
      "source": [
       "### 💡 挑战：尝试不同的参数、不同的求解器或添加正则化。会发生什么？"
      ]
     },
     {
      "cell_type": "markdown",
      "id": "9ad8228e",
      "metadata": {},
      "source": [
       "## 使用准确率评估模型性能"
      ]
     },
     {
      "cell_type": "code",
      "execution_count": null,
      "id": "84c15d53",
      "metadata": {},
      "outputs": [],
      "source": [
       "from cuml.metrics.accuracy import accuracy_score\n",
       "\n",
       "accuracy = accuracy_score(y_test, predictions)\n",
       "print(f\"模型准确率: {accuracy:.4f}\")"
      ]
     },
     {
      "cell_type": "markdown",
      "id": "9581af87",
      "metadata": {},
      "source": [
       "## 使用网格搜索进行超参数调优"
      ]
     },
     {
      "cell_type": "code",
      "execution_count": null,
      "id": "d3ea1397",
      "metadata": {},
      "outputs": [],
      "source": [
       "from cuml.model_selection import GridSearchCV\n",
       "\n",
       "# 定义参数网格\n",
       "param_grid = {\n",
       "    'fit_intercept': [True, False],\n",
       "    'max_iter': [100, 200]\n",
       "}\n",
       "\n",
       "grid_search = GridSearchCV(model, param_grid, scoring='accuracy', cv=3)\n",
       "grid_search.fit(X_train, y_train)\n",
       "\n",
       "# 获取最佳参数和分数\n",
       "print(f\"最佳参数: {grid_search.best_params_}\")\n",
       "print(f\"最佳分数: {grid_search.best_score_:.4f}\")"
      ]
     },
     {
      "cell_type": "markdown",
      "id": "fcc3baa2",
      "metadata": {},
      "source": [
       "## 交叉验证"
      ]
     },
     {
      "cell_type": "code",
      "execution_count": null,
      "id": "75a8673b",
      "metadata": {},
      "outputs": [],
      "source": [
       "from cuml.model_selection import cross_val_score\n",
       "\n",
       "scores = cross_val_score(model, X_train, y_train, cv=5)\n",
       "print(f\"交叉验证分数: {scores}\")\n",
       "print(f\"平均交叉验证分数: {scores.mean():.4f}\")"
      ]
     },
     {
      "cell_type": "markdown",
      "id": "27f49675-ffd6-40f5-82bc-9414c9226abc",
      "metadata": {},
      "source": [
       "## 比较GPU和CPU模型"
      ]
     },
     {
      "cell_type": "code",
      "execution_count": null,
      "id": "82220ef3-dede-4873-973a-9fd591eb236e",
      "metadata": {},
      "outputs": [],
      "source": [
       "import time \n",
       "\n",
       "# 计时GPU模型训练\n",
       "start_time = time.time()\n",
       "model = LogisticRegression()\n",
       "model.fit(X_train, y_train)\n",
       "gpu_time = time.time() - start_time\n",
       "print(f\"GPU训练时间: {gpu_time:.4f} 秒\")"
      ]
     },
     {
      "cell_type": "markdown",
      "id": "3df91585-6ff0-40f7-a86d-ca91cc473e97",
      "metadata": {},
      "source": [
       "在CPU上训练模型："
      ]
     },
     {
      "cell_type": "code",
      "execution_count": null,
      "id": "a68adf5d-e293-442c-b9db-38bd31002961",
      "metadata": {},
      "outputs": [],
      "source": [
       "from sklearn.linear_model import LogisticRegression as SklearnLogisticRegression\n",
       "from sklearn.model_selection import train_test_split\n",
       "import pandas as pd\n",
       "\n",
       "# 使用pandas创建一个大型随机DataFrame\n",
       "data_pd = pd.DataFrame({\n",
       "    'x1': np.random.rand(1000000),\n",
       "    'x2': np.random.rand(1000000),\n",
       "    'y': np.random.randint(0, 2, size=1000000)\n",
       "})\n",
       "\n",
       "X_pd = data_pd[['x1', 'x2']]\n",
       "y_pd = data_pd['y']\n",
       "X_train_pd, X_test_pd, y_train_pd, y_test_pd = train_test_split(X_pd, y_pd, test_size=0.2)\n",
       "\n",
       "\n",
       "# 计时CPU模型训练\n",
       "start_time = time.time()\n",
       "cpu_model = SklearnLogisticRegression()\n",
       "cpu_model.fit(X_train_pd, y_train_pd)\n",
       "\n",
       "cpu_time = time.time() - start_time\n",
       "print(f\"CPU训练时间: {cpu_time:.4f} 秒\")"
      ]
     },
     {
      "cell_type": "markdown",
      "id": "95927351-bcd1-4112-9623-575805242562",
      "metadata": {},
      "source": [
       "**注意：** 虽然表面上代码看起来几乎相同,但使用cuML的模型比仅使用scikit-learn的模型快了近100倍。cuML在GPU上可以显著优于传统的基于CPU的机器学习库,特别是对于大型数据集。随着数据规模的增加,时间节省变得更加明显,展示了利用GPU加速进行机器学习任务的优势。\n",
       "\n",
       "### 💡 挑战：如果您有特定的数据集或模型,可以运行上述示例亲自查看时间差异！\n"
      ]
     },
     {
      "cell_type": "markdown",
      "id": "a389da4b",
      "metadata": {},
      "source": [
       "## 保存和加载模型"
      ]
     },
     {
      "cell_type": "code",
      "execution_count": null,
      "id": "2872d2f0-b82f-46a0-8b66-02ff3f9d2a1c",
      "metadata": {},
      "outputs": [],
      "source": [
       "!pip install joblib"
      ]
     },
     {
      "cell_type": "code",
      "execution_count": null,
      "id": "7bb4ce4f",
      "metadata": {},
      "outputs": [],
      "source": [
       "# 使用cuML的joblib保存训练好的模型\n",
       "import joblib\n",
       "\n",
       "joblib.dump(model, 'logistic_regression_model.pkl')\n",
       "\n",
       "# 加载模型\n",
       "loaded_model = joblib.load('logistic_regression_model.pkl')"
      ]
     },
     {
      "cell_type": "markdown",
      "id": "def5b4c3",
      "metadata": {},
      "source": [
       "## K-均值聚类"
      ]
     },
     {
      "cell_type": "code",
      "execution_count": null,
      "id": "def886fc",
      "metadata": {},
      "outputs": [],
      "source": [
       "# 📊 使用K-均值聚类\n",
       "# 让我们演示使用cuML进行K-均值聚类。\n",
       "\n",
       "from cuml.cluster import KMeans\n",
       "from cupy import cp \n",
       "\n",
       "# 生成用于聚类的合成数据\n",
       "X_clustering = cp.random.rand(10000, 2)  # 10,000个样本, 2个特征\n",
       "\n",
       "# 初始化KMeans\n",
       "kmeans = KMeans(n_clusters=3)\n",
       "kmeans.fit(X_clustering)\n",
       "\n",
       "# 预测聚类标签\n",
       "labels = kmeans.predict(X_clustering)\n",
       "\n",
       "# 显示前几个标签\n",
       "print(labels[:10])\n"
      ]
     },
     {
      "cell_type": "markdown",
      "id": "eb8e8620-eab5-4296-bb52-3828f56d8d87",
      "metadata": {},
      "source": [
       "## 使用PCA进行降维"
      ]
     },
     {
      "cell_type": "code",
      "execution_count": null,
      "id": "a546a704-035f-4086-ba7f-3c315cac85e3",
      "metadata": {},
      "outputs": [],
      "source": [
       "# 📊 使用PCA进行降维\n",
       "# 对数据集执行PCA以进行降维。\n",
       "\n",
       "from cuml.decomposition import PCA\n",
       "\n",
       "pca = PCA(n_components=2)\n",
       "X_pca = pca.fit_transform(X)\n",
       "\n",
       "print(f\"PCA转换后的形状: {X_pca.shape}\")\n"
      ]
     }
    ],
    "metadata": {
     "kernelspec": {
      "display_name": "Python 3 (ipykernel)",
      "language": "python",
      "name": "python3"
     },
     "language_info": {
      "codemirror_mode": {
       "name": "ipython",
       "version": 3
      },
      "file_extension": ".py",
      "mimetype": "text/x-python",
      "name": "python",
      "nbconvert_exporter": "python",
      "pygments_lexer": "ipython3",
      "version": "3.11.7"
     }
    },
    "nbformat": 4,
    "nbformat_minor": 5
   }