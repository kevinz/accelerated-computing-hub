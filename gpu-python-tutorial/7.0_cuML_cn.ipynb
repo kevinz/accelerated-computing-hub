{
    "cells": [
     {
      "cell_type": "markdown",
      "id": "37767433-c4ee-4dcd-b08c-961bfee0e08b",
      "metadata": {},
      "source": [
       "# cuML\n",
       "\n",
       "我们要探索的另一个包是 [cuML](https://github.com/rapidsai/cuml)。与 `scikit-learn` 类似，您可以使用 `cuml` 在数据上训练机器学习模型来进行预测。与 RAPIDS 工具套件中的其他包一样，`cuml` 的 API 与 `scikit-learn` 相同，但底层代码已经实现为在 GPU 上运行。"
      ]
     },
     {
      "cell_type": "code",
      "execution_count": null,
      "id": "694fbdf6",
      "metadata": {},
      "outputs": [],
      "source": [
       "!git clone https://github.com/rapidsai/rapidsai-csp-utils.git\n",
       "!python rapidsai-csp-utils/colab/pip-install.py"
      ]
     },
     {
      "cell_type": "code",
      "execution_count": null,
      "id": "2332c71a-919f-473c-a17a-49649d031c53",
      "metadata": {},
      "outputs": [],
      "source": [
       "import cudf"
      ]
     },
     {
      "cell_type": "markdown",
      "id": "ae63fed6-3a26-4498-8a18-c9a48955b4c5",
      "metadata": {},
      "source": [
       "让我们来看看训练一个 K 近邻模型，根据一些其他属性（如血压、血糖水平、BMI 等）来预测一个人是否患有糖尿病。\n",
       "\n",
       "我们首先使用 `cudf` 将数据加载到 GPU 数据框中。"
      ]
     },
     {
      "cell_type": "code",
      "execution_count": null,
      "id": "0ad9c9f9-7a12-481a-8071-099a20ac2ee5",
      "metadata": {},
      "outputs": [],
      "source": [
       "df = cudf.read_csv(\"https://raw.githubusercontent.com/NVIDIA/accelerated-computing-hub/refs/heads/main/gpu-python-tutorial/data/diabetes.csv\")\n",
       "df.head()"
      ]
     },
     {
      "cell_type": "markdown",
      "id": "8a6603cb-c2fa-4fc1-8899-b93cc6cd2f30",
      "metadata": {},
      "source": [
       "接下来，我们需要创建两个独立的表。一个包含除糖尿病列之外的患者属性，另一个只包含糖尿病列。"
      ]
     },
     {
      "cell_type": "code",
      "execution_count": null,
      "id": "628dd21c-57f6-416b-b987-fc7b26038edb",
      "metadata": {},
      "outputs": [],
      "source": [
       "X = df.drop(columns=[\"Outcome\"])\n",
       "X.head()"
      ]
     },
     {
      "cell_type": "code",
      "execution_count": null,
      "id": "7941ed26-7e13-4712-8e0e-f3066b6f1998",
      "metadata": {},
      "outputs": [],
      "source": [
       "y = df[\"Outcome\"].values\n",
       "y[0:5]"
      ]
     },
     {
      "cell_type": "markdown",
      "id": "8216b7b1-96e6-43ba-907b-c6c38385ef7f",
      "metadata": {},
      "source": [
       "接下来，我们需要使用 `cuml` 中的 `train_test_split` 方法将数据分成两组。\n",
       "\n",
       "第一个较大的组将用于训练我们的模型。我们将从每个表中取 80% 的数据，称为 `X_train` 和 `y_train`。在训练模型时，它将能够看到这两组数据以执行聚类。\n",
       "\n",
       "剩余 20% 的数据将被称为 `X_test` 和 `y_test`。一旦我们的模型训练完成，我们将把 `X_test` 数据输入到模型中，预测这些人是否患有糖尿病。然后我们可以将这些预测与实际的 `y_test` 数据进行比较，看看我们的模型有多准确。\n",
       "\n",
       "我们还设置了 `random_state=1` 以使随机选择保持一致，这仅用于本教程的目的。我们还设置了 `stratify`，这意味着如果我们初始数据中 75% 的人患有糖尿病，那么我们的训练集中也将保证有 75% 的人患有糖尿病。"
      ]
     },
     {
      "cell_type": "code",
      "execution_count": null,
      "id": "442519ad-1ef7-453a-bc48-59acc231d7ae",
      "metadata": {},
      "outputs": [],
      "source": [
       "from cuml.model_selection import train_test_split\n",
       "X_train, X_test, y_train, y_test = train_test_split(X, y, test_size=0.2, random_state=1, stratify=y)"
      ]
     },
     {
      "cell_type": "markdown",
      "id": "1a48f7c7-22a3-4b15-b679-800619e9e66b",
      "metadata": {},
      "source": [
       "现在我们有了训练数据，可以从 `cuml` 导入 `KNeighborsClassifier` 并拟合我们的模型。"
      ]
     },
     {
      "cell_type": "code",
      "execution_count": null,
      "id": "2120bacd-f9e1-4d19-9a29-e4215669d1d0",
      "metadata": {},
      "outputs": [],
      "source": [
       "from cuml.neighbors import KNeighborsClassifier\n",
       "\n",
       "knn = KNeighborsClassifier(n_neighbors = 3)\n",
       "\n",
       "knn.fit(X_train,y_train)"
      ]
     },
     {
      "cell_type": "markdown",
      "id": "40916ef1-e47c-4d92-b8a9-2022de7abad9",
      "metadata": {},
      "source": [
       "我们的模型在 GPU 上完成了拟合，现在我们可以进行一些预测了。让我们预测测试集中的前五个人。"
      ]
     },
     {
      "cell_type": "code",
      "execution_count": null,
      "id": "a5c1bac6-bce3-4c61-92e6-603c76c1aace",
      "metadata": {},
      "outputs": [],
      "source": [
       "knn.predict(X_test)[0:5]"
      ]
     },
     {
      "cell_type": "markdown",
      "id": "82e267a1-c286-4fca-a716-1e1901130d9b",
      "metadata": {},
      "source": [
       "我们可以看到，我们的新模型认为第一个患者患有糖尿病，但其他人没有。\n",
       "\n",
       "让我们将整个测试集和实际答案一起通过评分函数运行，看看我们的模型表现如何。"
      ]
     },
     {
      "cell_type": "code",
      "execution_count": null,
      "id": "0dfc2d6b-9248-4f3d-a770-aec1f3a1b548",
      "metadata": {},
      "outputs": [],
      "source": [
       "knn.score(X_test, y_test)"
      ]
     },
     {
      "cell_type": "markdown",
      "id": "f2455f63-46a5-4d6f-8e22-51eb1812afe9",
      "metadata": {},
      "source": [
       "恭喜！您刚刚在 Python 中使用 GPU 训练了一个机器学习模型，并获得了 69% 的准确率。这里有很多方法可以提高这个分数，但这超出了本教程的范围。"
      ]
     }
    ],
    "metadata": {
     "kernelspec": {
      "display_name": "Python 3 (ipykernel)",
      "language": "python",
      "name": "python3"
     },
     "language_info": {
      "codemirror_mode": {
       "name": "ipython",
       "version": 3
      },
      "file_extension": ".py",
      "mimetype": "text/x-python",
      "name": "python",
      "nbconvert_exporter": "python",
      "pygments_lexer": "ipython3",
      "version": "3.12.7"
     }
    },
    "nbformat": 4,
    "nbformat_minor": 5
   }