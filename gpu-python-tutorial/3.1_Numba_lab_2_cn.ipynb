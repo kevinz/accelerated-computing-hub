{
    "cells": [
     {
      "cell_type": "markdown",
      "id": "f95cdd35-30d2-405c-b92e-9b98d3848b19",
      "metadata": {},
      "source": [
       "# 黑白图像转换\n",
       "\n",
       "现在我们已经了解了多维索引，为什么不尝试使用二维索引将我们的图像转换为黑白的呢？\n",
       "\n",
       "我们不是逐个通道操作所有像素，而是想要对所有像素进行操作并对通道取平均值。\n",
       "\n",
       "在开始之前，请通过点击右上角的设置齿轮 -> 编辑器 -> 取消选中'自动触发代码完成'来关闭 Google Colab 的自动完成功能。"
      ]
     },
     {
      "cell_type": "code",
      "execution_count": null,
      "id": "e67a1a0e-d8c5-481c-82c6-588a6f939bf6",
      "metadata": {},
      "outputs": [],
      "source": [
       "import matplotlib as mpl\n",
       "import matplotlib.pyplot as plt\n",
       "from numba import cuda\n",
       "import numpy as np\n",
       "import math\n",
       "\n",
       "plt.rcParams[\"figure.figsize\"] = (30, 4)"
      ]
     },
     {
      "cell_type": "markdown",
      "id": "a5424e22-3b39-4a01-9f2d-cd3e70693d8e",
      "metadata": {},
      "source": [
       "**1. 使用 matplotlib 加载我们的图像。**"
      ]
     },
     {
      "cell_type": "code",
      "execution_count": null,
      "id": "4658f0e0-732b-4741-860e-bacebf3520b7",
      "metadata": {},
      "outputs": [],
      "source": [
       "!wget https://raw.githubusercontent.com/NVIDIA/accelerated-computing-hub/main/gpu-python-tutorial/images/numba.png\n",
       "im = ...\n",
       "plt.imshow(im)"
      ]
     },
     {
      "cell_type": "markdown",
      "id": "ae2f31f2-5d10-480a-87e8-224ea9c77634",
      "metadata": {},
      "source": [
       "**2. 将图像移动到 GPU 并创建相同大小的输出数组。**"
      ]
     },
     {
      "cell_type": "code",
      "execution_count": null,
      "id": "38a8b64b-d552-476c-ac97-8f0b4a3f9c11",
      "metadata": {},
      "outputs": [],
      "source": [
       "gpu_im = ...\n",
       "gpu_output = ..."
      ]
     },
     {
      "cell_type": "markdown",
      "id": "4e78dc11-5467-4a51-8e83-c5f5169a54a0",
      "metadata": {},
      "source": [
       "**3. 设置我们的二维线程大小和块大小。** _提示：我们的 `threadsperblock` 的乘积仍应为 `128`。_"
      ]
     },
     {
      "cell_type": "code",
      "execution_count": null,
      "id": "c3b5749e-d2fc-4252-af7b-ed2440b9fafd",
      "metadata": {},
      "outputs": [],
      "source": [
       "threadsperblock = ...\n",
       "blockspergrid_x = ...\n",
       "blockspergrid_y = ...\n",
       "blockspergrid = ..."
      ]
     },
     {
      "cell_type": "markdown",
      "id": "0d60af57-2d91-46a9-a9c4-6976712c7498",
      "metadata": {},
      "source": [
       "**4. 编写我们的内核。**"
      ]
     },
     {
      "cell_type": "code",
      "execution_count": null,
      "id": "f27721dc-9e01-4461-80bb-681f08f8d81f",
      "metadata": {},
      "outputs": [],
      "source": [
       "@cuda.jit\n",
       "def black_white(im, output):\n",
       "    # 使用我们的二维网格，我们可以在两个维度上获取索引位置\n",
       "    x, y = ...\n",
       "\n",
       "    # 因为我们的网格略大于图像，所以图像外的任何内容都应该被忽略\n",
       "    if x < im.shape[0] and y < im.shape[1]:\n",
       "\n",
       "        # 计算 RGB 通道的平均值\n",
       "        ...\n",
       "\n",
       "        # 将所有输出 RGB 通道设置为平均值\n",
       "        ...\n",
       "\n",
       "        # 保持透明度通道不变\n",
       "        ..."
      ]
     },
     {
      "cell_type": "markdown",
      "id": "8d4cb160-9fd9-4158-8916-50941396ac6d",
      "metadata": {},
      "source": [
       "**5. 运行内核。**"
      ]
     },
     {
      "cell_type": "code",
      "execution_count": null,
      "id": "b8951dce-73ef-41b7-97e3-97be08fe6ad4",
      "metadata": {},
      "outputs": [],
      "source": [
       "..."
      ]
     },
     {
      "cell_type": "markdown",
      "id": "02bc9ea1-4020-473a-9ed8-9b71e3d60822",
      "metadata": {},
      "source": [
       "**6. 将数据从 GPU 移回并绘制图像。**"
      ]
     },
     {
      "cell_type": "code",
      "execution_count": null,
      "id": "168c8971-e236-40eb-aea3-a673077fe066",
      "metadata": {},
      "outputs": [],
      "source": [
       "plt.imshow(...)"
      ]
     }
    ],
    "metadata": {
     "kernelspec": {
      "display_name": "Python 3 (ipykernel)",
      "language": "python",
      "name": "python3"
     },
     "language_info": {
      "codemirror_mode": {
       "name": "ipython",
       "version": 3
      },
      "file_extension": ".py",
      "mimetype": "text/x-python",
      "name": "python",
      "nbconvert_exporter": "python",
      "pygments_lexer": "ipython3",
      "version": "3.10.13"
     }
    },
    "nbformat": 4,
    "nbformat_minor": 5
   }