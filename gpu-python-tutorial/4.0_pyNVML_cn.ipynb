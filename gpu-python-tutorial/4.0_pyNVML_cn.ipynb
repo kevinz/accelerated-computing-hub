{
    "cells": [
     {
      "cell_type": "markdown",
      "id": "71f09962-079f-4425-b35e-335f1f9d845f",
      "metadata": {},
      "source": [
       "# 我的 GPU 在做什么？\n",
       "\n",
       "现在我们正在 GPU 上执行代码，我们可能想要更多地了解我们如何充分利用我们的硬件。\n",
       "\n",
       "本教程设计用于与 [jupyterlab-nvdashboard](https://github.com/rapidsai/jupyterlab-nvdashboard) 一起使用，这是一个 Jupyter Lab 扩展，它显示 GPU 利用率、内存和传输速度的图表。\n",
       "\n",
       "![](images/nvdashboard.gif)"
      ]
     },
     {
      "cell_type": "markdown",
      "id": "00607eb2-9493-4627-afed-1249b1a5b4d0",
      "metadata": {},
      "source": [
       "用于创建此仪表板的所有 API 都可以在 Python 中使用，所以让我们自己深入了解 pyNVML。\n",
       "\n",
       "NVML 代表 NVIDIA 管理库，是一个包含在 NVIDIA 驱动程序中的包，用于报告 GPU 状态信息。\n",
       "\n",
       "我们可以导入和使用 [`pyNVML` 包](https://pypi.org/project/pynvml/) 来探索这些数据。"
      ]
     },
     {
      "cell_type": "code",
      "execution_count": null,
      "metadata": {},
      "outputs": [],
      "source": [
       "!pip install nvidia-ml-py"
      ]
     },
     {
      "cell_type": "code",
      "execution_count": null,
      "id": "ecaba429-3888-4e21-8b4f-025c5f88ec5c",
      "metadata": {},
      "outputs": [],
      "source": [
       "import pynvml\n",
       "pynvml.nvmlInit()"
      ]
     },
     {
      "cell_type": "markdown",
      "id": "752e9781-e856-40f6-a03d-5f66715f8253",
      "metadata": {},
      "source": [
       "这个包提供了对 C NVML 库的直接绑定，所以他们文档中提到的几乎所有功能都是可能的。\n",
       "\n",
       "我们可以看到我们有多少个 GPU。"
      ]
     },
     {
      "cell_type": "code",
      "execution_count": null,
      "id": "3a1888b2-8a45-4166-a8d6-c1a35a8d5fc4",
      "metadata": {},
      "outputs": [],
      "source": [
       "pynvml.nvmlDeviceGetCount()"
      ]
     },
     {
      "cell_type": "markdown",
      "id": "3c755a89-83d6-4aab-9b80-6d0e2af3cc48",
      "metadata": {},
      "source": [
       "我们的驱动程序版本是什么。"
      ]
     },
     {
      "cell_type": "code",
      "execution_count": null,
      "id": "d95d678d-6d44-45e6-93bd-07f90bcf6e04",
      "metadata": {},
      "outputs": [],
      "source": [
       "pynvml.nvmlSystemGetDriverVersion()"
      ]
     },
     {
      "cell_type": "markdown",
      "id": "1cc104eb-4a25-4fa6-a359-706b32207622",
      "metadata": {},
      "source": [
       "然后我们可以为每个 GPU 获取一个句柄来查询其具体指标。"
      ]
     },
     {
      "cell_type": "code",
      "execution_count": null,
      "id": "cbb82832-c930-4bf7-acb4-a73f64f33b76",
      "metadata": {},
      "outputs": [],
      "source": [
       "gpus = [pynvml.nvmlDeviceGetHandleByIndex(i) for i in range(pynvml.nvmlDeviceGetCount())]\n",
       "gpus"
      ]
     },
     {
      "cell_type": "markdown",
      "id": "ab3e931e-35d2-4a21-8930-10c1cf0b5655",
      "metadata": {},
      "source": [
       "我们可以获取型号。"
      ]
     },
     {
      "cell_type": "code",
      "execution_count": null,
      "id": "0301baf7-fdf4-4a43-ad79-831c3281e77f",
      "metadata": {},
      "outputs": [],
      "source": [
       "[pynvml.nvmlDeviceGetName(gpu) for gpu in gpus]"
      ]
     },
     {
      "cell_type": "markdown",
      "id": "254f1d7f-b650-4fc3-a7bf-ccfb91e925f2",
      "metadata": {},
      "source": [
       "我们可以获取内存信息（让我们转换为 GB）"
      ]
     },
     {
      "cell_type": "code",
      "execution_count": null,
      "id": "69a52159-1fd4-4bb1-9db8-2287a7f614c2",
      "metadata": {},
      "outputs": [],
      "source": [
       "[pynvml.nvmlDeviceGetMemoryInfo(gpu).used / 1e9 for gpu in gpus]"
      ]
     },
     {
      "cell_type": "code",
      "execution_count": null,
      "id": "7345d98b-1636-4c1f-bcf2-ac2fd8f54beb",
      "metadata": {},
      "outputs": [],
      "source": [
       "[pynvml.nvmlDeviceGetMemoryInfo(gpu).free / 1e9 for gpu in gpus]"
      ]
     },
     {
      "cell_type": "markdown",
      "id": "1f9fd3c1-8137-4833-aa63-c913e86aff26",
      "metadata": {},
      "source": [
       "通过访问 GPU 的丰富指标，我们可以对代码的性能和如何划分工作做出更明智的决定。"
      ]
     }
    ],
    "metadata": {
     "kernelspec": {
      "display_name": "Python 3 (ipykernel)",
      "language": "python",
      "name": "python3"
     },
     "language_info": {
      "codemirror_mode": {
       "name": "ipython",
       "version": 3
      },
      "file_extension": ".py",
      "mimetype": "text/x-python",
      "name": "python",
      "nbconvert_exporter": "python",
      "pygments_lexer": "ipython3",
      "version": "3.10.13"
     }
    },
    "nbformat": 4,
    "nbformat_minor": 5
   }