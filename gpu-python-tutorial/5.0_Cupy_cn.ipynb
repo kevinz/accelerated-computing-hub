{
    "cells": [
     {
      "cell_type": "markdown",
      "id": "50ec73a2-ab2e-40df-9819-151916d9a3a0",
      "metadata": {},
      "source": [
       "# CuPy\n",
       "\n",
       "现在我们已经用 Numba 探索了一些底层 GPU API，让我们转向使用 [CuPy](https://cupy.dev/) 处理一些高级数组功能。\n",
       "\n",
       "CuPy 有来自包括 NVIDIA 在内的多个组织的维护者。CuPy 实现了熟悉的 NumPy API，但后端是用 CUDA C++ 编写的。这使得已经熟悉 NumPy 的人只需更换一个导入语句就可以快速获得 GPU 加速。"
      ]
     },
     {
      "cell_type": "code",
      "execution_count": null,
      "id": "40df9e1b-3aa3-42ea-babb-1e3576f4e2ef",
      "metadata": {
       "tags": []
      },
      "outputs": [],
      "source": [
       "import numpy as np\n",
       "import cupy as cp\n",
       "cp.cuda.Stream.null.synchronize()"
      ]
     },
     {
      "cell_type": "markdown",
      "id": "9e8c31d8-13ae-45f0-bc52-07e5154e3456",
      "metadata": {},
      "source": [
       "让我们来看看这篇博文中的一些简单示例：https://towardsdatascience.com/heres-how-to-use-cupy-to-make-numpy-700x-faster-4b920dda1f56"
      ]
     },
     {
      "cell_type": "markdown",
      "id": "8b95730c-3b2c-43cd-a3c1-1f3f4744fc3d",
      "metadata": {},
      "source": [
       "## 创建数组\n",
       "\n",
       "首先让我们在 CPU 和 GPU 上分别创建一个 `2GB` 的数组，并比较这需要多长时间。"
      ]
     },
     {
      "cell_type": "code",
      "execution_count": null,
      "id": "06d47795-4ce8-4faa-b431-15c986316872",
      "metadata": {
       "tags": []
      },
      "outputs": [],
      "source": [
       "%%timeit -r 1 -n 10\n",
       "global x_cpu\n",
       "x_cpu = np.ones((1000, 500, 500))"
      ]
     },
     {
      "cell_type": "code",
      "execution_count": null,
      "id": "55c76949-a75c-4bd7-9062-66286e4cdc28",
      "metadata": {
       "tags": []
      },
      "outputs": [],
      "source": [
       "%%timeit -n 10\n",
       "global x_gpu\n",
       "x_gpu = cp.ones((1000, 500, 500))\n",
       "\n",
       "cp.cuda.Stream.null.synchronize()"
      ]
     },
     {
      "cell_type": "markdown",
      "id": "15eeed31-6939-4d43-a062-c800fb5f78fa",
      "metadata": {},
      "source": [
       "_注意，为了让我们的计时公平，这里需要显式调用 `cp.cuda.Stream.null.synchronize()`。默认情况下，cupy 会并发运行 GPU 代码，函数会在 GPU 完成之前就返回。调用 `synchronize()` 会让我们等待 GPU 完成后再返回。_\n",
       "\n",
       "我们可以看到，在 GPU 上创建这个数组比在 CPU 上快得多，但这次我们的代码看起来完全一样。我们不需要担心内核、线程、块或任何这些东西。"
      ]
     },
     {
      "cell_type": "markdown",
      "id": "bdc2baf9-925f-4037-a1a5-aa74671908d6",
      "metadata": {},
      "source": [
       "## 基本操作\n",
       "\n",
       "接下来让我们看看对数组进行一些数学运算。我们可以从将数组中的每个值乘以 `5` 开始。"
      ]
     },
     {
      "cell_type": "code",
      "execution_count": null,
      "id": "b78ba2a1-b372-4bdd-99c4-bb96a06ddc73",
      "metadata": {
       "tags": []
      },
      "outputs": [],
      "source": [
       "%%time\n",
       "x_cpu *= 5"
      ]
     },
     {
      "cell_type": "code",
      "execution_count": null,
      "id": "e3eaae3a-8daa-4b4f-8139-b740fc589a14",
      "metadata": {
       "tags": []
      },
      "outputs": [],
      "source": [
       "%%time\n",
       "x_gpu *= 5\n",
       "\n",
       "cp.cuda.Stream.null.synchronize()"
      ]
     },
     {
      "cell_type": "markdown",
      "id": "6f151fee-65cf-4468-8aec-a9a41f4930fd",
      "metadata": {},
      "source": [
       "GPU 再次完成得更快，但代码保持不变。\n",
       "\n",
       "现在让我们连续执行几个操作，这在我们的 Numba 示例中如果没有显式内存管理会受到内存传输时间的影响。"
      ]
     },
     {
      "cell_type": "code",
      "execution_count": null,
      "id": "86bc2d94-96b0-40d0-830b-afdb4ab82b49",
      "metadata": {
       "tags": []
      },
      "outputs": [],
      "source": [
       "%%time\n",
       "x_cpu *= 5\n",
       "x_cpu *= x_cpu\n",
       "x_cpu += x_cpu"
      ]
     },
     {
      "cell_type": "code",
      "execution_count": null,
      "id": "c8b50f5d-7595-4147-9b1e-6e388e7cf466",
      "metadata": {
       "tags": []
      },
      "outputs": [],
      "source": [
       "%%time\n",
       "x_gpu *= 5\n",
       "x_gpu *= x_gpu\n",
       "x_gpu += x_gpu\n",
       "\n",
       "cp.cuda.Stream.null.synchronize()"
      ]
     },
     {
      "cell_type": "markdown",
      "id": "4846b2fd-1f9d-4d90-bc33-38de273c9130",
      "metadata": {},
      "source": [
       "我们可以看到，即使没有显式管理内存，GPU 运行速度也快得多。这是因为 CuPy 在后台为我们透明地处理了所有这些。"
      ]
     },
     {
      "cell_type": "markdown",
      "id": "49aabbef-7441-4ec5-8f5f-ff035b2f4879",
      "metadata": {},
      "source": [
       "## 更复杂的操作\n",
       "\n",
       "现在我们已经尝试了一些运算符，让我们深入研究一些 NumPy 函数。让我们比较一下在一个稍小的数据数组上运行奇异值分解。"
      ]
     },
     {
      "cell_type": "code",
      "execution_count": null,
      "id": "b633495b-ae9f-477c-9df2-33e5d10cd5b1",
      "metadata": {
       "tags": []
      },
      "outputs": [],
      "source": [
       "%%time\n",
       "x_cpu = np.random.random((1000, 1000))\n",
       "u, s, v = np.linalg.svd(x_cpu)"
      ]
     },
     {
      "cell_type": "code",
      "execution_count": null,
      "id": "d69665f7-d8ba-483d-9263-edfecb45cf29",
      "metadata": {
       "tags": []
      },
      "outputs": [],
      "source": [
       "%%time\n",
       "x_gpu = cp.random.random((1000, 1000))\n",
       "u, s, v = cp.linalg.svd(x_gpu)"
      ]
     },
     {
      "cell_type": "markdown",
      "id": "ae0416ed-2930-40b2-9a9a-bd53821018dc",
      "metadata": {},
      "source": [
       "正如我们所见，使用完全相同的 API，GPU 再次优于 CPU。\n",
       "\n",
       "这里还有一点有趣的是，NumPy 可以智能地分派这样的函数调用。在上面的示例中，我们调用了 `cp.linalg.svd`，但我们也可以调用 `np.linalg.svd` 并传入我们的 GPU 数组。NumPy 会检查输入并代表我们调用 `cp.linalg.svd`。这使得在代码中引入 `cupy` 变得更加容易，只需要最少的更改。"
      ]
     },
     {
      "cell_type": "code",
      "execution_count": null,
      "id": "9e34124a-d19e-4828-a161-1e605baa1317",
      "metadata": {
       "tags": []
      },
      "outputs": [],
      "source": [
       "%%time\n",
       "x_gpu = cp.random.random((1000, 1000))\n",
       "u, s, v = np.linalg.svd(x_gpu)  # 注意这里使用的是 `np`\n",
       "\n",
       "cp.cuda.Stream.null.synchronize()"
      ]
     },
     {
      "cell_type": "markdown",
      "id": "a3c68732-c354-4217-96d0-be5a53f4f5d5",
      "metadata": {},
      "source": [
       "## 设备\n",
       "\n",
       "CuPy 有当前设备的概念，它是数组分配、操作、计算等默认发生的 GPU 设备。假设当前设备的 ID 是 `0`。在这种情况下，以下代码会在 GPU 0 上创建一个数组 `x_on_gpu0`。"
      ]
     },
     {
      "cell_type": "code",
      "execution_count": null,
      "id": "72b49963-75a4-41e7-ab74-662519a9f9cf",
      "metadata": {
       "tags": []
      },
      "outputs": [],
      "source": [
       "with cp.cuda.Device(0):\n",
       "   x_on_gpu0 = cp.random.random((100000, 1000))\n",
       "\n",
       "x_on_gpu0.device"
      ]
     },
     {
      "cell_type": "markdown",
      "id": "44c62867-37e4-45aa-bb15-204f471a60c5",
      "metadata": {},
      "source": [
       "通常，CuPy 函数期望数组与当前设备在同一设备上。根据硬件配置，传递存储在非当前设备上的数组可能会工作，但通常不建议这样做，因为它可能不会有好的性能。"
      ]
     }
    ],
    "metadata": {
     "kernelspec": {
      "display_name": "Python 3 (ipykernel)",
      "language": "python",
      "name": "python3"
     },
     "language_info": {
      "codemirror_mode": {
       "name": "ipython",
       "version": 3
      },
      "file_extension": ".py",
      "mimetype": "text/x-python",
      "name": "python",
      "nbconvert_exporter": "python",
      "pygments_lexer": "ipython3",
      "version": "3.10.13"
     }
    },
    "nbformat": 4,
    "nbformat_minor": 5
   }