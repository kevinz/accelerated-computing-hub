{
    "cells": [
     {
      "cell_type": "markdown",
      "id": "ff189fc2-802c-42d7-a299-8b8224f0d025",
      "metadata": {},
      "source": [
       "# CPU 和 GPU 的比较"
      ]
     },
     {
      "cell_type": "markdown",
      "id": "216bd640-6104-45e8-a7c6-09ce9af20f1c",
      "metadata": {},
      "source": [
       "CPU 是执行代码最常见的处理器类型。CPU 有一个或多个串行处理器，每个处理器从指令栈中获取单个指令并**按顺序执行**。\n",
       "\n",
       "GPU 是一种协处理器，通常用于视频和图像渲染，但在机器学习和数据科学领域也非常流行。GPU 有一个或多个流式多处理器，它们接收指令数组并**并行执行**。"
      ]
     },
     {
      "cell_type": "markdown",
      "id": "afdb98ac-89dc-44a6-a3fc-bd5a8374daf7",
      "metadata": {},
      "source": [
       "<figure>\n",
       "\n",
       "![CPU GPU 比较](images/cpu-gpu.png)\n",
       "\n",
       "<figcaption style=\"text-align: center;\"> \n",
       "    \n",
       "图片来源 <a href=\"https://docs.nvidia.com/cuda/cuda-c-programming-guide/\">https://docs.nvidia.com/cuda/cuda-c-programming-guide/</a>\n",
       "    \n",
       "</figcaption>\n",
       "</figure>\n"
      ]
     },
     {
      "cell_type": "markdown",
      "id": "85278019-6617-43dd-9928-9571a683ea6a",
      "metadata": {},
      "source": [
       "## 流言终结者的解释"
      ]
     },
     {
      "cell_type": "markdown",
      "id": "fb6bad2c-63ee-4c28-a42f-9323b1e689d2",
      "metadata": {},
      "source": [
       "这个视频可能有助于直观地解释这个概念。"
      ]
     },
     {
      "cell_type": "code",
      "execution_count": null,
      "id": "85961642-b01c-4ce2-9872-31c3f2186072",
      "metadata": {
       "tags": []
      },
      "outputs": [],
      "source": [
       "from IPython.display import YouTubeVideo\n",
       "YouTubeVideo(id='-P28LKWTzrI',width=1000,height=600)"
      ]
     },
     {
      "cell_type": "markdown",
      "id": "fbf0ab63-065c-40e9-9d16-2f51ea192bfc",
      "metadata": {},
      "source": [
       "## 那么如何控制 GPU 呢？"
      ]
     },
     {
      "cell_type": "markdown",
      "id": "a63ebb5e-3a44-43d6-bab4-22bd98ea523e",
      "metadata": {},
      "source": [
       "在 GPU 上执行代码感觉很像在通过网络在第二台计算机上执行代码。\n",
       "\n",
       "如果我想将 Python 程序发送到另一台机器执行，我需要几个东西：\n",
       "- 一种将数据和代码复制到远程机器的方法（SCP、SFTP、SMB、NFS 等）\n",
       "- 一种在远程机器上登录和执行程序的方法（SSH、VNC、远程桌面等）\n",
       "\n",
       "![CPU GPU 比较](images/two-computers-network.png)"
      ]
     },
     {
      "cell_type": "markdown",
      "id": "a302560a-a0bc-4dc9-914c-340817c4b85d",
      "metadata": {},
      "source": [
       "要在 GPU 上实现相同的功能，我们需要通过 PCI 使用 CUDA。但想法仍然是一样的，我们需要将数据和代码移动到设备上并执行该代码。\n",
       "\n",
       "![CPU GPU 比较](images/computer-gpu-cuda.png)"
      ]
     },
     {
      "cell_type": "markdown",
      "id": "888d4144-13bc-487a-a4e1-45995e4b54bc",
      "metadata": {},
      "source": [
       "## 什么是 CUDA？\n",
       "\n",
       "[CUDA](https://developer.nvidia.com/cuda-zone) 是 C++ 的扩展，它允许我们编译 GPU 代码并与 GPU 交互。\n",
       "\n",
       "### 但我写的是 Python，不是 C++！\n",
       "\n",
       "在过去几年里，NVIDIA 投资将 CUDA 功能引入 Python。\n",
       "\n",
       "如今有像 [Numba](https://numba.pydata.org/) 这样的包，它允许我们即时编译（JIT）Python 代码成与 CUDA 兼容的代码，并提供绑定来传输数据和执行该代码。\n",
       "\n",
       "还有许多高级包，如 [CuPy](https://cupy.dev/)、[cuDF](https://github.com/rapidsai/cudf)、[cuML](https://github.com/rapidsai/cuml)、[cuGraph](https://github.com/rapidsai/cugraph) 等，它们在 CUDA C++ 中实现功能，然后打包 Python 绑定，以便可以直接从 Python 中使用。这些包统称为 [RAPIDS](https://rapids.ai/)。\n",
       "\n",
       "最后，还有 [CUDA Python](https://developer.nvidia.com/cuda-python) 库，它为 CUDA 驱动程序和运行时 API 提供 Cython/Python 包装器。\n",
       "\n",
       "本教程将重点介绍 Numba 和 RAPIDS。"
      ]
     }
    ],
    "metadata": {
     "kernelspec": {
      "display_name": "Python 3 (ipykernel)",
      "language": "python",
      "name": "python3"
     },
     "language_info": {
      "codemirror_mode": {
       "name": "ipython",
       "version": 3
      },
      "file_extension": ".py",
      "mimetype": "text/x-python",
      "name": "python",
      "nbconvert_exporter": "python",
      "pygments_lexer": "ipython3",
      "version": "3.10.12"
     }
    },
    "nbformat": 4,
    "nbformat_minor": 5
   }