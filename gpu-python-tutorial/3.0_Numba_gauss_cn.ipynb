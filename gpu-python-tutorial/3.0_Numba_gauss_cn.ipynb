{
    "cells": [
     {
      "cell_type": "markdown",
      "id": "bd360c2d-3ddb-49df-a726-923b5566b367",
      "metadata": {},
      "source": [
       "# 使用 Numba 实现高斯模糊\n",
       "\n",
       "让我们尝试做一些更复杂的事情。我们将使用 GPU 对图像应用高斯模糊。"
      ]
     },
     {
      "cell_type": "code",
      "execution_count": null,
      "id": "7a5c539e-33e9-4f2d-8aa3-faac917abce2",
      "metadata": {
       "tags": []
      },
      "outputs": [],
      "source": [
       "import matplotlib as mpl\n",
       "import matplotlib.pyplot as plt\n",
       "from numba import cuda\n",
       "import numpy as np\n",
       "import math\n",
       "\n",
       "plt.rcParams[\"figure.figsize\"] = (30, 4)"
      ]
     },
     {
      "cell_type": "markdown",
      "id": "55e7ba92-2a77-4a66-8a1f-e035e34840d7",
      "metadata": {},
      "source": [
       "## 数据加载\n",
       "\n",
       "我们可以将图像文件读取为 NumPy 数组。让我们使用 Numba 的 logo。"
      ]
     },
     {
      "cell_type": "code",
      "execution_count": null,
      "id": "c6a309ae-d641-49fe-b7e7-1868be02cea3",
      "metadata": {
       "tags": []
      },
      "outputs": [],
      "source": [
       "!wget https://raw.githubusercontent.com/NVIDIA/accelerated-computing-hub/main/gpu-python-tutorial/images/numba.png\n",
       "im = plt.imread(\"numba.png\")"
      ]
     },
     {
      "cell_type": "code",
      "execution_count": null,
      "id": "8d7b841f-6e9c-4842-8d36-bfa7caf8618c",
      "metadata": {
       "tags": []
      },
      "outputs": [],
      "source": [
       "type(im)"
      ]
     },
     {
      "cell_type": "code",
      "execution_count": null,
      "id": "81b55f70-618f-4e6c-80a5-5b9dae9ca19d",
      "metadata": {
       "tags": []
      },
      "outputs": [],
      "source": [
       "plt.imshow(im)"
      ]
     },
     {
      "cell_type": "markdown",
      "id": "3c5046f8-de51-4d42-a02f-9c698b761e79",
      "metadata": {},
      "source": [
       "让我们将图像移动到 GPU，并创建一个输出数组用于存储我们的模糊图像。"
      ]
     },
     {
      "cell_type": "code",
      "execution_count": null,
      "id": "21fd0189-6e1a-49d1-972f-dc0e411548e4",
      "metadata": {
       "tags": []
      },
      "outputs": [],
      "source": [
       "gpu_im = cuda.to_device(im)\n",
       "gpu_output = cuda.to_device(np.zeros_like(gpu_im))"
      ]
     },
     {
      "cell_type": "markdown",
      "id": "9b0d8ccf-112c-4b79-a167-e6e717fc3f60",
      "metadata": {},
      "source": [
       "## 多维索引\n",
       "\n",
       "在编写模糊函数之前，让我们讨论一下多维索引。在前面的示例中，我们使用了 `cuda.grid(1)` 来获取 `i` 值。这个调用中的 `1` 指的是这个索引应该具有的维度数。我们使用的是一维数组，所以使用一维索引是有意义的。\n",
       "\n",
       "现在我们正在处理一个具有三个维度的图像：`x` 和 `y` 用于位置，以及 `channel`（红、绿、蓝、透明度）。"
      ]
     },
     {
      "cell_type": "code",
      "execution_count": null,
      "id": "bd93543f-bee8-4426-8971-88592970dcf1",
      "metadata": {
       "tags": []
      },
      "outputs": [],
      "source": [
       "im.shape"
      ]
     },
     {
      "cell_type": "markdown",
      "id": "3d8ee278-8cd6-4d4e-a75d-19851e9de68c",
      "metadata": {},
      "source": [
       "我们希望我们的 CUDA 内核在这个图像的每个像素上运行。我们可以继续使用 `i`，确保 `i` 是 `116 * 434 * 4`，并自己解开索引以确定我们想要的像素。\n",
       "\n",
       "但是我们可以使用三维索引，这样我们就可以有 `x`、`y` 和 `channel` 索引，而不是 `i`。\n",
       "\n",
       "首先，我们需要指定一个三维线程块大小。让我们继续使用线程块大小 `128`，但我们可以将其指定为三个相乘等于 `128` 的数字。"
      ]
     },
     {
      "cell_type": "code",
      "execution_count": null,
      "id": "39049871-1d8b-49b0-922a-f467b7f9efad",
      "metadata": {
       "tags": []
      },
      "outputs": [],
      "source": [
       "# threadsperblock = 128\n",
       "threadsperblock = (2, 16, 4)"
      ]
     },
     {
      "cell_type": "markdown",
      "id": "5990f6e8-2f4d-4f5d-a996-694e12a74851",
      "metadata": {},
      "source": [
       "接下来，我们需要计算我们的网格大小。我们将使用图像的维度来计算覆盖整个图像所需的线程数。"
      ]
     },
     {
      "cell_type": "code",
      "execution_count": null,
      "id": "1ca03085-184c-4717-b0b5-32f73d5123e4",
      "metadata": {
       "tags": []
      },
      "outputs": [],
      "source": [
       "blockspergrid_x = math.ceil(gpu_im.shape[0] / threadsperblock[0])\n",
       "blockspergrid_y = math.ceil(gpu_im.shape[1] / threadsperblock[1])\n",
       "blockspergrid_z = math.ceil(gpu_im.shape[2] / threadsperblock[2])\n",
       "blockspergrid = (blockspergrid_x, blockspergrid_y, blockspergrid_z)"
      ]
     },
     {
      "cell_type": "code",
      "execution_count": null,
      "id": "c8777ada-d89f-4210-94dd-11e578986b84",
      "metadata": {
       "tags": []
      },
      "outputs": [],
      "source": [
       "blockspergrid"
      ]
     },
     {
      "cell_type": "markdown",
      "id": "499ec48f-c7ab-4287-a4af-1cd9e8971a45",
      "metadata": {},
      "source": [
       "如果我们将线程和块相乘，我们可以看到我们的网格略大于我们的图像。"
      ]
     },
     {
      "cell_type": "code",
      "execution_count": null,
      "id": "877bf265-bb7c-4653-9f83-74c1e800c627",
      "metadata": {
       "tags": []
      },
      "outputs": [],
      "source": [
       "[t * b for t, b in zip(threadsperblock, blockspergrid)]"
      ]
     },
     {
      "cell_type": "markdown",
      "id": "71eb88f5-da16-4769-851d-72976d576a2a",
      "metadata": {},
      "source": [
       "## 编写我们的模糊内核\n",
       "\n",
       "我们的内核需要接收图像和输出数组。\n",
       "\n",
       "它需要获取要操作的网格位置，然后在该位置对图像执行模糊处理。\n",
       "\n",
       "我们只关心在 `x` 和 `y` 维度上进行模糊处理，而不是在颜色通道上。所以我们只需直接传递 `c` 值。"
      ]
     },
     {
      "cell_type": "code",
      "execution_count": null,
      "id": "0c2e96dc-c38c-4d24-bfc7-17a545b507a8",
      "metadata": {
       "tags": []
      },
      "outputs": [],
      "source": [
       "@cuda.jit\n",
       "def blur(im, output):\n",
       "    # 使用我们的三维网格，我们可以在三个维度上获取索引位置\n",
       "    x, y, c = cuda.grid(3)\n",
       "\n",
       "    # 因为我们的网格略大于图像，所以图像外的任何内容都应该被忽略\n",
       "    if x < im.shape[0] and y < im.shape[1] and c < im.shape[2]:\n",
       "\n",
       "        # 将输出数组像素设置为输入数组上该点周围九个像素的平均值\n",
       "        output[x, y, c] = (im[x-1, y-1, c] + im[x, y-1, c] + im[x+1, y-1, c]  + \\\n",
       "                           im[x-1, y, c]   + im[x, y, c]   + im[x+1, y, c]    + \\\n",
       "                           im[x-1, y+1, c] + im[x+1, y, c] + im[x+1, y+1, c]) / 9"
      ]
     },
     {
      "cell_type": "markdown",
      "id": "3eede620-c57b-43fc-834b-46d3a39e2087",
      "metadata": {},
      "source": [
       "## 运行我们的内核\n",
       "\n",
       "现在让我们多次运行我们的内核以获得所需的模糊程度。\n",
       "\n",
       "我们需要每次传递在开始下一次之前完成。我们还需要我们的输出成为我们的输入，并且需要一个新的输出来工作。我们可以重用旧的输入作为新的输出数组。这很有效，因为我们可以重用 GPU 上的两个现有数组。\n",
       "\n",
       "这就是手动内存管理派上用场的地方。我们可以多次调用我们的内核，但将所有数据留在 GPU 上。我们只需在每次传递之间交换指针。"
      ]
     },
     {
      "cell_type": "code",
      "execution_count": null,
      "id": "316baf2c-5341-4083-8f59-3b7229eb03c1",
      "metadata": {
       "tags": []
      },
      "outputs": [],
      "source": [
       "for i in range(5):\n",
       "    blur[blockspergrid, threadsperblock](gpu_im, gpu_output)\n",
       "    gpu_im, gpu_output = gpu_output, gpu_im"
      ]
     },
     {
      "cell_type": "markdown",
      "id": "b6064723-a737-4b83-85ee-a499ddd5f8b4",
      "metadata": {},
      "source": [
       "现在如果我们查看我们的图像，它应该足够模糊了。"
      ]
     },
     {
      "cell_type": "code",
      "execution_count": null,
      "id": "02783f5a-b6be-4386-a660-1a3aa6992df9",
      "metadata": {
       "tags": []
      },
      "outputs": [],
      "source": [
       "plt.imshow(gpu_output.copy_to_host())"
      ]
     }
    ],
    "metadata": {
     "kernelspec": {
      "display_name": "Python 3 (ipykernel)",
      "language": "python",
      "name": "python3"
     },
     "language_info": {
      "codemirror_mode": {
       "name": "ipython",
       "version": 3
      },
      "file_extension": ".py",
      "mimetype": "text/x-python",
      "name": "python",
      "nbconvert_exporter": "python",
      "pygments_lexer": "ipython3",
      "version": "3.10.13"
     }
    },
    "nbformat": 4,
    "nbformat_minor": 5
   }