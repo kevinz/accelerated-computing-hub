{
    "cells": [
     {
      "cell_type": "markdown",
      "id": "11150e25-024f-46cb-8ec5-992864291646",
      "metadata": {},
      "source": [
       "<img src=\"images/cuda-python.jpg\" style=\"float: right;\" />\n",
       "\n",
       "# Python GPU 开发入门 101\n",
       "\n",
       "_作者：[Jacob Tomlinson](https://jacobtomlinson.dev)_\n",
       "\n",
       "**欢迎来到 Python GPU 开发入门 101 教程。**\n",
       "\n",
       "我于2019年加入 NVIDIA，从那时起我就开始掌握 Python 中编写加速代码的基础知识。令我惊讶的是，我不需要学习 C++ 也不需要新的开发工具。如今在 Python 中编写 GPU 代码比以往任何时候都更容易，在本教程中，我将分享我所学到的知识以及如何开始加速您的代码。\n",
       "\n",
       "本教程将涵盖：\n",
       "- 什么是 GPU？它与 CPU 有何不同？\n",
       "- CUDA 开发模型概述\n",
       "- Numba：Python 的高性能编译器\n",
       "- 用 Python 编写您的第一个 GPU 代码\n",
       "- 内存管理\n",
       "- 使用 pyNVML 了解您的 GPU 在做什么（内存使用、利用率等）\n",
       "- RAPIDS：一套 GPU 加速的数据科学库\n",
       "- 在 GPU 上使用 NumPy 风格的数组\n",
       "- 在 GPU 上使用 Pandas 风格的数据框\n",
       "- 在 GPU 上执行类似 scikit-learn 的机器学习\n",
       "\n",
       "学员需要具备 Python 和编程概念的基本知识，但不需要 GPU 经验。学员的主要收获将是认识到，要让代码在 GPU 上运行，他们不需要做太多不同的事情。"
      ]
     },
     {
      "cell_type": "markdown",
      "id": "6cee88d4-a78d-4013-be48-d30834a9becd",
      "metadata": {},
      "source": [
       "### 大纲\n",
       "\n",
       "- **第1章** - GPU 简介（30分钟）\n",
       "- **第2章** - 使用 Numba 在 Python 中编写底层 GPU 代码（30分钟）\n",
       "- **第3章** - 更多 Numba 内容（30分钟）\n",
       "- **第4章** - 可观察性和互操作性（30分钟）\n",
       "- **第5章** - 在 Cupy 中使用 NumPy 风格的数组（30分钟）\n",
       "- **第6章** - 使用 cuDF 加速数据框（30分钟）\n",
       "- **第7章** - 使用 cuML 进行高性能机器学习（30分钟）\n",
       "- **第8章** - 使用 Dask 分布式 GPU Python 代码（30分钟）"
      ]
     },
     {
      "cell_type": "markdown",
      "id": "4fb48fd6-d4d4-4ce7-b1fb-37e9470fb25e",
      "metadata": {},
      "source": [
       "### 要求\n",
       "\n",
       "#### 在会议中\n",
       "\n",
       "通常当本教程作为会议的一部分运行时，会为参与者提供计算平台。通常这是一个带有 GPU 的自定义 [Binder](https://mybinder.org/) 平台，并预装了驱动程序等依赖项。如果您现在正在会议上跟随本教程学习，请参考您的讲师获取平台详细信息。\n",
       "\n",
       "#### 本地运行\n",
       "\n",
       "或者，您可以使用自己的环境。所有研讨会材料都与满足 [RAPIDS 系统要求](https://docs.rapids.ai/install/) 的系统兼容。如果您有满足这些要求的系统，可以使用 [RAPIDS 安装说明](https://docs.rapids.ai/install/) 通过 conda、pip 或 docker 安装 RAPIDS。\n"
      ]
     }
    ],
    "metadata": {
     "kernelspec": {
      "display_name": "Python 3 (ipykernel)",
      "language": "python",
      "name": "python3"
     },
     "language_info": {
      "codemirror_mode": {
       "name": "ipython",
       "version": 3
      },
      "file_extension": ".py",
      "mimetype": "text/x-python",
      "name": "python",
      "nbconvert_exporter": "python",
      "pygments_lexer": "ipython3",
      "version": "3.10.12"
     }
    },
    "nbformat": 4,
    "nbformat_minor": 5
   }