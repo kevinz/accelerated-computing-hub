{
    "cells": [
     {
      "cell_type": "markdown",
      "id": "9af66fe0-71ee-4a4c-b16d-e7288a7aa863",
      "metadata": {},
      "source": [
       "# Numba 实验\n",
       "\n",
       "现在轮到您了！\n",
       "\n",
       "您的挑战是使用 Numba 在 CUDA Python 中实现 Fizz Buzz，并计算 `1` 到 `50_000_000` 之间所有 `Fizz`、`Buzz` 和 `Fizz Buzz` 的实例。"
      ]
     },
     {
      "cell_type": "code",
      "execution_count": null,
      "id": "83342135-ae20-44f4-b807-d8a0e715a41b",
      "metadata": {
       "tags": []
      },
      "outputs": [],
      "source": [
       "import numpy as np\n",
       "from numba import cuda"
      ]
     },
     {
      "cell_type": "markdown",
      "id": "58f3fbf4-7e50-43de-9ddb-f7fd6a3cf7d3",
      "metadata": {},
      "source": [
       "**1. 创建输入数据数组。** 尝试使用 `np.arange`。"
      ]
     },
     {
      "cell_type": "code",
      "execution_count": null,
      "id": "75188098-ad67-4ebc-8123-48aa40071524",
      "metadata": {
       "tags": []
      },
      "outputs": [],
      "source": [
       "data = np.arange(1, 50_000_000)\n",
       "data"
      ]
     },
     {
      "cell_type": "markdown",
      "id": "3334d891-8331-4bad-8528-b16e0e2f0719",
      "metadata": {},
      "source": [
       "**2. 创建输出数据数组。**"
      ]
     },
     {
      "cell_type": "code",
      "execution_count": null,
      "id": "2bc25714-5f7c-4653-b660-0fca3a7682b9",
      "metadata": {
       "tags": []
      },
      "outputs": [],
      "source": [
       "output = np.zeros_like(data)\n",
       "output"
      ]
     },
     {
      "cell_type": "markdown",
      "id": "67ad1fed-bae3-4e1c-aaac-c90a798a8024",
      "metadata": {},
      "source": [
       "**3. 计算线程和块的数量。**"
      ]
     },
     {
      "cell_type": "code",
      "execution_count": null,
      "id": "d91f35c7-bbbc-4cd3-bd60-38231ffbbf91",
      "metadata": {
       "tags": []
      },
      "outputs": [],
      "source": [
       "import math\n",
       "\n",
       "threads = 128\n",
       "blocks = math.ceil(data.shape[0] / threads)"
      ]
     },
     {
      "cell_type": "markdown",
      "id": "9d562640-0cd6-434c-9f90-8e7ebc02ccba",
      "metadata": {},
      "source": [
       "**4. 创建内核。** _提示：我们的输出数组必须是数值型的，所以尝试使用值 `1`、`2` 和 `3` 分别表示 `Fizz`、`Buzz` 和 `Fizz Buzz`。_"
      ]
     },
     {
      "cell_type": "code",
      "execution_count": null,
      "id": "5706c5b9-6010-407e-95a3-6cecade6ab5c",
      "metadata": {
       "tags": []
      },
      "outputs": [],
      "source": [
       "@cuda.jit\n",
       "def fizz_buzz(input_array, output_array):\n",
       "    i = cuda.grid(1)\n",
       "    n = input_array[i]\n",
       "    if n % 3 == 0:\n",
       "        output_array[i] = 1  # Fizz\n",
       "    if n % 5 == 0:\n",
       "        output_array[i] = 2  # Buzz\n",
       "    if n % 15 == 0:\n",
       "        output_array[i] = 3  # Fizz Buzz"
      ]
     },
     {
      "cell_type": "markdown",
      "id": "c0bded64-c8d3-4165-9141-54b97112e58b",
      "metadata": {},
      "source": [
       "**5. 运行我们的内核。**"
      ]
     },
     {
      "cell_type": "code",
      "execution_count": null,
      "id": "3177d207-d9c6-4624-8ed1-b4b79e6f8ba2",
      "metadata": {
       "tags": []
      },
      "outputs": [],
      "source": [
       "%%time\n",
       "fizz_buzz[blocks, threads](data, output)\n",
       "output[:12]"
      ]
     },
     {
      "cell_type": "markdown",
      "id": "5fddf47e-3d1d-4cbb-9405-44141fdb5d2f",
      "metadata": {},
      "source": [
       "**额外挑战 6. 计算 `Fizz` 的最高实例。**"
      ]
     },
     {
      "cell_type": "code",
      "execution_count": null,
      "id": "a9b6ccf7-4f1b-4ad3-bad1-5dd9ea0fccb0",
      "metadata": {
       "tags": []
      },
      "outputs": [],
      "source": [
       "idx = np.where(output == 1)[0][-1]\n",
       "data[idx]"
      ]
     }
    ],
    "metadata": {
     "kernelspec": {
      "display_name": "Python 3 (ipykernel)",
      "language": "python",
      "name": "python3"
     },
     "language_info": {
      "codemirror_mode": {
       "name": "ipython",
       "version": 3
      },
      "file_extension": ".py",
      "mimetype": "text/x-python",
      "name": "python",
      "nbconvert_exporter": "python",
      "pygments_lexer": "ipython3",
      "version": "3.10.13"
     }
    },
    "nbformat": 4,
    "nbformat_minor": 5
   }