{
    "cells": [
     {
      "cell_type": "markdown",
      "id": "206f2d19-ee54-4612-8e5c-4c9286ed65f2",
      "metadata": {},
      "source": [
       "# cuDF\n",
       "\n",
       "现在让我们转向一些更高级的 API，从 [cuDF](https://github.com/rapidsai/cudf) 开始。与 `pandas` 类似，`cudf` 库是一个用于处理表格数据集的数据框架包。\n",
       "\n",
       "数据被加载到 GPU 上，所有操作都使用 GPU 计算完成，但 `cudf` 的 API 对 `pandas` 用户来说应该非常熟悉。"
      ]
     },
     {
      "cell_type": "code",
      "execution_count": null,
      "id": "d0225ba7",
      "metadata": {},
      "outputs": [],
      "source": [
       "!git clone https://github.com/rapidsai/rapidsai-csp-utils.git\n",
       "!python rapidsai-csp-utils/colab/pip-install.py"
      ]
     },
     {
      "cell_type": "code",
      "execution_count": null,
      "id": "4772c7b8-eb17-4215-a502-ebe83cf47eae",
      "metadata": {
       "tags": []
      },
      "outputs": [],
      "source": [
       "import cudf"
      ]
     },
     {
      "cell_type": "markdown",
      "id": "aac963d3-d69e-4076-82d5-11af3957190f",
      "metadata": {},
      "source": [
       "## 数据加载"
      ]
     },
     {
      "cell_type": "markdown",
      "id": "95b73460-b76e-4299-8e25-08633935c3ab",
      "metadata": {},
      "source": [
       "在本教程中，我们在 `data/` 中存储了一些数据。这些数据大多太小，无法真正从 GPU 加速中受益，但让我们还是来探索一下。"
      ]
     },
     {
      "cell_type": "code",
      "execution_count": null,
      "id": "1ec43622-a325-4367-aa43-fd2a42864ad3",
      "metadata": {
       "tags": []
      },
      "outputs": [],
      "source": [
       "import pandas as pd"
      ]
     },
     {
      "cell_type": "code",
      "execution_count": null,
      "id": "c90e6d77-2ab2-480c-9a33-f4d64d4d4f70",
      "metadata": {
       "tags": []
      },
      "outputs": [],
      "source": [
       "df = pd.read_csv(\"https://raw.githubusercontent.com/NVIDIA/accelerated-computing-hub/refs/heads/main/gpu-python-tutorial/data/pageviews_small.csv\", sep=\" \")\n",
       "df.head()"
      ]
     },
     {
      "cell_type": "code",
      "execution_count": null,
      "id": "14a86ca3-3d6e-4c1b-b41e-57a417359453",
      "metadata": {
       "tags": []
      },
      "outputs": [],
      "source": [
       "pageviews = cudf.read_csv(\"https://raw.githubusercontent.com/NVIDIA/accelerated-computing-hub/refs/heads/main/gpu-python-tutorial/data/pageviews_small.csv\", sep=\" \")\n",
       "pageviews.head()"
      ]
     },
     {
      "cell_type": "markdown",
      "id": "af8f440a-6f14-4c15-8989-681061885a56",
      "metadata": {},
      "source": [
       "这个 `pageviews.csv` 文件包含了来自维基百科不同语言版本的超过 `1M` 条页面浏览记录。\n",
       "\n",
       "让我们重命名列并删除未使用的 `x` 列。"
      ]
     },
     {
      "cell_type": "code",
      "execution_count": null,
      "id": "7009c9dc-16a0-48ce-92c1-8c46c15ec545",
      "metadata": {
       "tags": []
      },
      "outputs": [],
      "source": [
       "pageviews.columns = ['project', 'page', 'requests', 'x']\n",
       "\n",
       "pageviews = pageviews.drop('x', axis=1)\n",
       "\n",
       "pageviews"
      ]
     },
     {
      "cell_type": "markdown",
      "id": "82170548-e30a-44f3-9a90-233e137c3d37",
      "metadata": {},
      "source": [
       "接下来，让我们统计这个数据集中有多少条英语记录。"
      ]
     },
     {
      "cell_type": "code",
      "execution_count": null,
      "id": "21649483-7563-45ab-921a-a3eb47d186db",
      "metadata": {
       "tags": []
      },
      "outputs": [],
      "source": [
       "print(pageviews[pageviews.project == 'en'].count())"
      ]
     },
     {
      "cell_type": "markdown",
      "id": "75a70f60-e655-4a80-8fac-d3b064e9df6d",
      "metadata": {},
      "source": [
       "然后让我们执行一个分组操作，按语言统计所有页面。"
      ]
     },
     {
      "cell_type": "code",
      "execution_count": null,
      "id": "40043baa-2175-4e25-9d5a-ec460e824558",
      "metadata": {
       "tags": []
      },
      "outputs": [],
      "source": [
       "grouped_pageviews = pageviews.groupby('project').count().reset_index()\n",
       "grouped_pageviews"
      ]
     },
     {
      "cell_type": "markdown",
      "id": "d829f77c-9776-4b49-b199-fc51d49932b7",
      "metadata": {},
      "source": [
       "最后，让我们看看英语、法语、中文和波兰语的结果。"
      ]
     },
     {
      "cell_type": "code",
      "execution_count": null,
      "id": "5cf65103-b0c8-4092-9851-4fe64d01ea12",
      "metadata": {
       "tags": []
      },
      "outputs": [],
      "source": [
       "print(grouped_pageviews[grouped_pageviews.project.isin(['en', 'fr', 'zh', 'pl'])])"
      ]
     },
     {
      "cell_type": "markdown",
      "id": "11291229-10ca-4dea-a62d-20af58f84801",
      "metadata": {},
      "source": [
       "如果您以前使用过 `pandas`，那么所有这些语法对您来说应该都很熟悉。就像 `cupy` 实现了大部分 `numpy` API 一样，`cudf` 实现了大部分 `pandas` API。\n",
       "\n",
       "唯一的区别是我们所有的过滤和分组操作都在 GPU 而不是 CPU 上进行，从而获得更好的性能。"
      ]
     },
     {
      "cell_type": "markdown",
      "id": "37604175-6954-4474-a3c8-eb15a96e7a7e",
      "metadata": {},
      "source": [
       "### 字符串操作\n",
       "\n",
       "GPU 历来以数值计算著称，而不是用于处理更复杂的对象。在 cuDF 中，字符串操作也通过专门的内核得到加速。\n",
       "\n",
       "这意味着像字符串大写这样的操作可以在 GPU 上并行化。"
      ]
     },
     {
      "cell_type": "code",
      "execution_count": null,
      "id": "19288eb6-e52d-44c6-9ca9-9947e7e9085c",
      "metadata": {
       "tags": []
      },
      "outputs": [],
      "source": [
       "pageviews[pageviews.project == 'en'].page.str.upper()"
      ]
     },
     {
      "cell_type": "code",
      "execution_count": null,
      "id": "1fdd39fb-2cfc-46b6-a416-5ca0efe580a9",
      "metadata": {
       "tags": []
      },
      "outputs": [],
      "source": [
       "pageviews_en = pageviews[pageviews.project == 'en']\n",
       "print(pageviews_en.page.str.upper().head())"
      ]
     },
     {
      "cell_type": "markdown",
      "id": "d0f707c7-0564-4d41-83fa-8c96e4c954a3",
      "metadata": {},
      "source": [
       "### 用户自定义函数（UDFs）\n",
       "\n",
       "cuDF 还支持用户自定义函数（UDFs），这些函数可以在 GPU 上并行地映射到 Series 或 DataFrame 上。\n",
       "\n",
       "UDFs 可以定义为接受单个值的纯 Python 函数。当我们调用 `.apply()` 时，这些函数将被 Numba 在运行时编译成可以在 GPU 上运行的代码。"
      ]
     },
     {
      "cell_type": "code",
      "execution_count": null,
      "id": "074d6601-e111-4333-8a22-c7a417cd28cc",
      "metadata": {
       "tags": []
      },
      "outputs": [],
      "source": [
       "def udf(x):\n",
       "    if x < 5:\n",
       "        return 0\n",
       "    return x"
      ]
     },
     {
      "cell_type": "code",
      "execution_count": null,
      "id": "951236d0-e6de-4f29-a18b-f6d8f5882a1c",
      "metadata": {
       "tags": []
      },
      "outputs": [],
      "source": [
       "pageviews.requests = pageviews.requests.apply(udf)"
      ]
     },
     {
      "cell_type": "code",
      "execution_count": null,
      "id": "99c6ba01-5f8e-4674-b0b5-17223aa65fac",
      "metadata": {
       "tags": []
      },
      "outputs": [],
      "source": [
       "pageviews.requests"
      ]
     },
     {
      "cell_type": "markdown",
      "id": "578d9ed7-d472-4f19-9249-3d326ec1a8f5",
      "metadata": {},
      "source": [
       "也可以直接使用 Numba 编写接收输入列和输出列指针以及额外参数的内核。然后内核可以像我们在第2/3章中那样使用 `cuda.grid` 来获取要操作的索引。\n",
       "\n",
       "然后我们使用 `.forall()` 将我们的内核映射到一个列上。"
      ]
     },
     {
      "cell_type": "code",
      "execution_count": null,
      "id": "6175d414-e00f-4bf8-9b53-bf046b35d08d",
      "metadata": {
       "tags": []
      },
      "outputs": [],
      "source": [
       "pageviews['mul_requests'] = 0.0"
      ]
     },
     {
      "cell_type": "code",
      "execution_count": null,
      "id": "76a04b41-be4b-4ad8-8a61-285cde2cd0bb",
      "metadata": {
       "tags": []
      },
      "outputs": [],
      "source": [
       "from numba import cuda"
      ]
     },
     {
      "cell_type": "code",
      "execution_count": null,
      "id": "f6f2dfa5-a706-4f26-b823-354b2741bff1",
      "metadata": {
       "tags": []
      },
      "outputs": [],
      "source": [
       "@cuda.jit\n",
       "def multiply(in_col, out_col, multiplier):\n",
       "    i = cuda.grid(1)\n",
       "    if i < in_col.size: # 边界检查\n",
       "        out_col[i] = in_col[i] * multiplier"
      ]
     },
     {
      "cell_type": "code",
      "execution_count": null,
      "id": "c4963f5d-4fae-42f8-b5f5-85d1f34221d8",
      "metadata": {
       "tags": []
      },
      "outputs": [],
      "source": [
       "multiply.forall(len(pageviews))(pageviews['requests'], pageviews['mul_requests'], 10.0)"
      ]
     },
     {
      "cell_type": "code",
      "execution_count": null,
      "id": "4f720ab3-2b92-47cc-a327-4ab0c72b6e05",
      "metadata": {
       "tags": []
      },
      "outputs": [],
      "source": [
       "print(pageviews.head())"
      ]
     },
     {
      "cell_type": "markdown",
      "id": "f180ca1a-7785-404a-8fe4-89b1112abdbf",
      "metadata": {},
      "source": [
       "## 滑动窗口\n",
       "\n",
       "cuDF 还支持在滑动窗口上应用内核。这实际上是一个一维模板，可以让我们基于邻居执行操作。\n",
       "\n",
       "![](images/rolling-windows.png)"
      ]
     },
     {
      "cell_type": "code",
      "execution_count": null,
      "id": "f958d4e7-1182-410d-8398-b4eaffd8f9ea",
      "metadata": {
       "tags": []
      },
      "outputs": [],
      "source": [
       "def neigborhood_mean(window):\n",
       "    c = 0\n",
       "    for val in window:\n",
       "        c += val\n",
       "    return c / len(window)"
      ]
     },
     {
      "cell_type": "code",
      "execution_count": null,
      "id": "0ac08b0d-063c-443d-837f-56557e4b5d07",
      "metadata": {
       "tags": []
      },
      "outputs": [],
      "source": [
       "pageviews.requests.rolling(3, 1, True).apply(neigborhood_mean)"
      ]
     }
    ],
    "metadata": {
     "kernelspec": {
      "display_name": "Python 3 (ipykernel)",
      "language": "python",
      "name": "python3"
     },
     "language_info": {
      "codemirror_mode": {
       "name": "ipython",
       "version": 3
      },
      "file_extension": ".py",
      "mimetype": "text/x-python",
      "name": "python",
      "nbconvert_exporter": "python",
      "pygments_lexer": "ipython3",
      "version": "3.12.7"
     }
    },
    "nbformat": 4,
    "nbformat_minor": 5
   }